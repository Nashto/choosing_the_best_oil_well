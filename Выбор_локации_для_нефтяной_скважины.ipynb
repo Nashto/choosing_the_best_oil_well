{
 "cells": [
  {
   "cell_type": "markdown",
   "metadata": {},
   "source": [
    "# Выбор локации для скважины"
   ]
  },
  {
   "cell_type": "markdown",
   "metadata": {},
   "source": [
    "Нужно решить, где бурить новую скважину.\n",
    "\n",
    "Ниже предоставлены пробы нефти в трёх регионах: в каждом 10 000 месторождений, где измерили качество нефти и объём её запасов. Необходимо построить модель машинного обучения, которая поможет определить регион, где добыча принесёт наибольшую прибыль. Нужно проанализировать возможную прибыль и риски техникой *Bootstrap*.\n",
    "\n",
    "Шаги для выбора локации:\n",
    "\n",
    "- В избранном регионе ищут месторождения, для каждого определяют значения признаков;\n",
    "- Строят модель и оценивают объём запасов;\n",
    "- Выбирают месторождения с самым высокими оценками значений. Количество месторождений зависит от бюджета компании и стоимости разработки одной скважины;\n",
    "- Прибыль равна суммарной прибыли отобранных месторождений."
   ]
  },
  {
   "cell_type": "markdown",
   "metadata": {},
   "source": [
    "## Загрузка и подготовка данных"
   ]
  },
  {
   "cell_type": "markdown",
   "metadata": {},
   "source": [
    "импорт необходимых библиотек"
   ]
  },
  {
   "cell_type": "code",
   "execution_count": 1,
   "metadata": {},
   "outputs": [],
   "source": [
    "import pandas as pd\n",
    "from sklearn.preprocessing import StandardScaler\n",
    "from numpy.random import RandomState\n",
    "from sklearn.model_selection import train_test_split\n",
    "from sklearn.linear_model import LinearRegression\n",
    "from sklearn.metrics import mean_squared_error\n",
    "from warnings import filterwarnings\n",
    "filterwarnings('ignore')"
   ]
  },
  {
   "cell_type": "code",
   "execution_count": 2,
   "metadata": {},
   "outputs": [],
   "source": [
    "df_1 = pd.read_csv('C:/Users/Nshan/Desktop/Нефть_DS/geo_data_0.csv')\n",
    "df_2 = pd.read_csv('C:/Users/Nshan/Desktop/Нефть_DS/geo_data_1.csv')\n",
    "df_3 = pd.read_csv('C:/Users/Nshan/Desktop/Нефть_DS/geo_data_2.csv')"
   ]
  },
  {
   "cell_type": "code",
   "execution_count": 3,
   "metadata": {},
   "outputs": [
    {
     "data": {
      "text/html": [
       "<div>\n",
       "<style scoped>\n",
       "    .dataframe tbody tr th:only-of-type {\n",
       "        vertical-align: middle;\n",
       "    }\n",
       "\n",
       "    .dataframe tbody tr th {\n",
       "        vertical-align: top;\n",
       "    }\n",
       "\n",
       "    .dataframe thead th {\n",
       "        text-align: right;\n",
       "    }\n",
       "</style>\n",
       "<table border=\"1\" class=\"dataframe\">\n",
       "  <thead>\n",
       "    <tr style=\"text-align: right;\">\n",
       "      <th></th>\n",
       "      <th>id</th>\n",
       "      <th>f0</th>\n",
       "      <th>f1</th>\n",
       "      <th>f2</th>\n",
       "      <th>product</th>\n",
       "    </tr>\n",
       "  </thead>\n",
       "  <tbody>\n",
       "    <tr>\n",
       "      <th>0</th>\n",
       "      <td>txEyH</td>\n",
       "      <td>0.705745</td>\n",
       "      <td>-0.497823</td>\n",
       "      <td>1.221170</td>\n",
       "      <td>105.280062</td>\n",
       "    </tr>\n",
       "    <tr>\n",
       "      <th>1</th>\n",
       "      <td>2acmU</td>\n",
       "      <td>1.334711</td>\n",
       "      <td>-0.340164</td>\n",
       "      <td>4.365080</td>\n",
       "      <td>73.037750</td>\n",
       "    </tr>\n",
       "    <tr>\n",
       "      <th>2</th>\n",
       "      <td>409Wp</td>\n",
       "      <td>1.022732</td>\n",
       "      <td>0.151990</td>\n",
       "      <td>1.419926</td>\n",
       "      <td>85.265647</td>\n",
       "    </tr>\n",
       "    <tr>\n",
       "      <th>3</th>\n",
       "      <td>iJLyR</td>\n",
       "      <td>-0.032172</td>\n",
       "      <td>0.139033</td>\n",
       "      <td>2.978566</td>\n",
       "      <td>168.620776</td>\n",
       "    </tr>\n",
       "    <tr>\n",
       "      <th>4</th>\n",
       "      <td>Xdl7t</td>\n",
       "      <td>1.988431</td>\n",
       "      <td>0.155413</td>\n",
       "      <td>4.751769</td>\n",
       "      <td>154.036647</td>\n",
       "    </tr>\n",
       "    <tr>\n",
       "      <th>5</th>\n",
       "      <td>wX4Hy</td>\n",
       "      <td>0.969570</td>\n",
       "      <td>0.489775</td>\n",
       "      <td>-0.735383</td>\n",
       "      <td>64.741541</td>\n",
       "    </tr>\n",
       "    <tr>\n",
       "      <th>6</th>\n",
       "      <td>tL6pL</td>\n",
       "      <td>0.645075</td>\n",
       "      <td>0.530656</td>\n",
       "      <td>1.780266</td>\n",
       "      <td>49.055285</td>\n",
       "    </tr>\n",
       "    <tr>\n",
       "      <th>7</th>\n",
       "      <td>BYPU6</td>\n",
       "      <td>-0.400648</td>\n",
       "      <td>0.808337</td>\n",
       "      <td>-5.624670</td>\n",
       "      <td>72.943292</td>\n",
       "    </tr>\n",
       "    <tr>\n",
       "      <th>8</th>\n",
       "      <td>j9Oui</td>\n",
       "      <td>0.643105</td>\n",
       "      <td>-0.551583</td>\n",
       "      <td>2.372141</td>\n",
       "      <td>113.356160</td>\n",
       "    </tr>\n",
       "    <tr>\n",
       "      <th>9</th>\n",
       "      <td>OLuZU</td>\n",
       "      <td>2.173381</td>\n",
       "      <td>0.563698</td>\n",
       "      <td>9.441852</td>\n",
       "      <td>127.910945</td>\n",
       "    </tr>\n",
       "  </tbody>\n",
       "</table>\n",
       "</div>"
      ],
      "text/plain": [
       "      id        f0        f1        f2     product\n",
       "0  txEyH  0.705745 -0.497823  1.221170  105.280062\n",
       "1  2acmU  1.334711 -0.340164  4.365080   73.037750\n",
       "2  409Wp  1.022732  0.151990  1.419926   85.265647\n",
       "3  iJLyR -0.032172  0.139033  2.978566  168.620776\n",
       "4  Xdl7t  1.988431  0.155413  4.751769  154.036647\n",
       "5  wX4Hy  0.969570  0.489775 -0.735383   64.741541\n",
       "6  tL6pL  0.645075  0.530656  1.780266   49.055285\n",
       "7  BYPU6 -0.400648  0.808337 -5.624670   72.943292\n",
       "8  j9Oui  0.643105 -0.551583  2.372141  113.356160\n",
       "9  OLuZU  2.173381  0.563698  9.441852  127.910945"
      ]
     },
     "execution_count": 3,
     "metadata": {},
     "output_type": "execute_result"
    }
   ],
   "source": [
    "df_1.head(10)"
   ]
  },
  {
   "cell_type": "code",
   "execution_count": 4,
   "metadata": {
    "scrolled": true
   },
   "outputs": [
    {
     "name": "stdout",
     "output_type": "stream",
     "text": [
      "<class 'pandas.core.frame.DataFrame'>\n",
      "RangeIndex: 100000 entries, 0 to 99999\n",
      "Data columns (total 5 columns):\n",
      " #   Column   Non-Null Count   Dtype  \n",
      "---  ------   --------------   -----  \n",
      " 0   id       100000 non-null  object \n",
      " 1   f0       100000 non-null  float64\n",
      " 2   f1       100000 non-null  float64\n",
      " 3   f2       100000 non-null  float64\n",
      " 4   product  100000 non-null  float64\n",
      "dtypes: float64(4), object(1)\n",
      "memory usage: 3.8+ MB\n"
     ]
    }
   ],
   "source": [
    "df_1.info()"
   ]
  },
  {
   "cell_type": "code",
   "execution_count": 5,
   "metadata": {
    "scrolled": true
   },
   "outputs": [
    {
     "data": {
      "text/html": [
       "<div>\n",
       "<style scoped>\n",
       "    .dataframe tbody tr th:only-of-type {\n",
       "        vertical-align: middle;\n",
       "    }\n",
       "\n",
       "    .dataframe tbody tr th {\n",
       "        vertical-align: top;\n",
       "    }\n",
       "\n",
       "    .dataframe thead th {\n",
       "        text-align: right;\n",
       "    }\n",
       "</style>\n",
       "<table border=\"1\" class=\"dataframe\">\n",
       "  <thead>\n",
       "    <tr style=\"text-align: right;\">\n",
       "      <th></th>\n",
       "      <th>f0</th>\n",
       "      <th>f1</th>\n",
       "      <th>f2</th>\n",
       "      <th>product</th>\n",
       "    </tr>\n",
       "  </thead>\n",
       "  <tbody>\n",
       "    <tr>\n",
       "      <th>count</th>\n",
       "      <td>100000.000000</td>\n",
       "      <td>100000.000000</td>\n",
       "      <td>100000.000000</td>\n",
       "      <td>100000.000000</td>\n",
       "    </tr>\n",
       "    <tr>\n",
       "      <th>mean</th>\n",
       "      <td>0.500419</td>\n",
       "      <td>0.250143</td>\n",
       "      <td>2.502647</td>\n",
       "      <td>92.500000</td>\n",
       "    </tr>\n",
       "    <tr>\n",
       "      <th>std</th>\n",
       "      <td>0.871832</td>\n",
       "      <td>0.504433</td>\n",
       "      <td>3.248248</td>\n",
       "      <td>44.288691</td>\n",
       "    </tr>\n",
       "    <tr>\n",
       "      <th>min</th>\n",
       "      <td>-1.408605</td>\n",
       "      <td>-0.848218</td>\n",
       "      <td>-12.088328</td>\n",
       "      <td>0.000000</td>\n",
       "    </tr>\n",
       "    <tr>\n",
       "      <th>25%</th>\n",
       "      <td>-0.072580</td>\n",
       "      <td>-0.200881</td>\n",
       "      <td>0.287748</td>\n",
       "      <td>56.497507</td>\n",
       "    </tr>\n",
       "    <tr>\n",
       "      <th>50%</th>\n",
       "      <td>0.502360</td>\n",
       "      <td>0.250252</td>\n",
       "      <td>2.515969</td>\n",
       "      <td>91.849972</td>\n",
       "    </tr>\n",
       "    <tr>\n",
       "      <th>75%</th>\n",
       "      <td>1.073581</td>\n",
       "      <td>0.700646</td>\n",
       "      <td>4.715088</td>\n",
       "      <td>128.564089</td>\n",
       "    </tr>\n",
       "    <tr>\n",
       "      <th>max</th>\n",
       "      <td>2.362331</td>\n",
       "      <td>1.343769</td>\n",
       "      <td>16.003790</td>\n",
       "      <td>185.364347</td>\n",
       "    </tr>\n",
       "  </tbody>\n",
       "</table>\n",
       "</div>"
      ],
      "text/plain": [
       "                  f0             f1             f2        product\n",
       "count  100000.000000  100000.000000  100000.000000  100000.000000\n",
       "mean        0.500419       0.250143       2.502647      92.500000\n",
       "std         0.871832       0.504433       3.248248      44.288691\n",
       "min        -1.408605      -0.848218     -12.088328       0.000000\n",
       "25%        -0.072580      -0.200881       0.287748      56.497507\n",
       "50%         0.502360       0.250252       2.515969      91.849972\n",
       "75%         1.073581       0.700646       4.715088     128.564089\n",
       "max         2.362331       1.343769      16.003790     185.364347"
      ]
     },
     "execution_count": 5,
     "metadata": {},
     "output_type": "execute_result"
    }
   ],
   "source": [
    "df_1.describe()"
   ]
  },
  {
   "cell_type": "code",
   "execution_count": 6,
   "metadata": {
    "scrolled": true
   },
   "outputs": [
    {
     "data": {
      "text/plain": [
       "id         0\n",
       "f0         0\n",
       "f1         0\n",
       "f2         0\n",
       "product    0\n",
       "dtype: int64"
      ]
     },
     "execution_count": 6,
     "metadata": {},
     "output_type": "execute_result"
    }
   ],
   "source": [
    "df_1.isna().sum()"
   ]
  },
  {
   "cell_type": "code",
   "execution_count": 7,
   "metadata": {},
   "outputs": [
    {
     "data": {
      "text/plain": [
       "0"
      ]
     },
     "execution_count": 7,
     "metadata": {},
     "output_type": "execute_result"
    }
   ],
   "source": [
    "df_1.duplicated().sum()"
   ]
  },
  {
   "cell_type": "markdown",
   "metadata": {},
   "source": [
    "Первая таблица содержит в себе 3 признака. В дальнейшем необходимо будет проанализировать возможность нормализации данных, чтобы каждый из параметров имел одинаковый вес.\n",
    "Пропусков и дубликатов не обнаружено в первой таблице."
   ]
  },
  {
   "cell_type": "code",
   "execution_count": 8,
   "metadata": {},
   "outputs": [
    {
     "data": {
      "text/html": [
       "<div>\n",
       "<style scoped>\n",
       "    .dataframe tbody tr th:only-of-type {\n",
       "        vertical-align: middle;\n",
       "    }\n",
       "\n",
       "    .dataframe tbody tr th {\n",
       "        vertical-align: top;\n",
       "    }\n",
       "\n",
       "    .dataframe thead th {\n",
       "        text-align: right;\n",
       "    }\n",
       "</style>\n",
       "<table border=\"1\" class=\"dataframe\">\n",
       "  <thead>\n",
       "    <tr style=\"text-align: right;\">\n",
       "      <th></th>\n",
       "      <th>id</th>\n",
       "      <th>f0</th>\n",
       "      <th>f1</th>\n",
       "      <th>f2</th>\n",
       "      <th>product</th>\n",
       "    </tr>\n",
       "  </thead>\n",
       "  <tbody>\n",
       "    <tr>\n",
       "      <th>0</th>\n",
       "      <td>kBEdx</td>\n",
       "      <td>-15.001348</td>\n",
       "      <td>-8.276000</td>\n",
       "      <td>-0.005876</td>\n",
       "      <td>3.179103</td>\n",
       "    </tr>\n",
       "    <tr>\n",
       "      <th>1</th>\n",
       "      <td>62mP7</td>\n",
       "      <td>14.272088</td>\n",
       "      <td>-3.475083</td>\n",
       "      <td>0.999183</td>\n",
       "      <td>26.953261</td>\n",
       "    </tr>\n",
       "    <tr>\n",
       "      <th>2</th>\n",
       "      <td>vyE1P</td>\n",
       "      <td>6.263187</td>\n",
       "      <td>-5.948386</td>\n",
       "      <td>5.001160</td>\n",
       "      <td>134.766305</td>\n",
       "    </tr>\n",
       "    <tr>\n",
       "      <th>3</th>\n",
       "      <td>KcrkZ</td>\n",
       "      <td>-13.081196</td>\n",
       "      <td>-11.506057</td>\n",
       "      <td>4.999415</td>\n",
       "      <td>137.945408</td>\n",
       "    </tr>\n",
       "    <tr>\n",
       "      <th>4</th>\n",
       "      <td>AHL4O</td>\n",
       "      <td>12.702195</td>\n",
       "      <td>-8.147433</td>\n",
       "      <td>5.004363</td>\n",
       "      <td>134.766305</td>\n",
       "    </tr>\n",
       "  </tbody>\n",
       "</table>\n",
       "</div>"
      ],
      "text/plain": [
       "      id         f0         f1        f2     product\n",
       "0  kBEdx -15.001348  -8.276000 -0.005876    3.179103\n",
       "1  62mP7  14.272088  -3.475083  0.999183   26.953261\n",
       "2  vyE1P   6.263187  -5.948386  5.001160  134.766305\n",
       "3  KcrkZ -13.081196 -11.506057  4.999415  137.945408\n",
       "4  AHL4O  12.702195  -8.147433  5.004363  134.766305"
      ]
     },
     "execution_count": 8,
     "metadata": {},
     "output_type": "execute_result"
    }
   ],
   "source": [
    "df_2.head()"
   ]
  },
  {
   "cell_type": "code",
   "execution_count": 9,
   "metadata": {},
   "outputs": [
    {
     "name": "stdout",
     "output_type": "stream",
     "text": [
      "<class 'pandas.core.frame.DataFrame'>\n",
      "RangeIndex: 100000 entries, 0 to 99999\n",
      "Data columns (total 5 columns):\n",
      " #   Column   Non-Null Count   Dtype  \n",
      "---  ------   --------------   -----  \n",
      " 0   id       100000 non-null  object \n",
      " 1   f0       100000 non-null  float64\n",
      " 2   f1       100000 non-null  float64\n",
      " 3   f2       100000 non-null  float64\n",
      " 4   product  100000 non-null  float64\n",
      "dtypes: float64(4), object(1)\n",
      "memory usage: 3.8+ MB\n"
     ]
    }
   ],
   "source": [
    "df_2.info()"
   ]
  },
  {
   "cell_type": "code",
   "execution_count": 10,
   "metadata": {},
   "outputs": [
    {
     "data": {
      "text/html": [
       "<div>\n",
       "<style scoped>\n",
       "    .dataframe tbody tr th:only-of-type {\n",
       "        vertical-align: middle;\n",
       "    }\n",
       "\n",
       "    .dataframe tbody tr th {\n",
       "        vertical-align: top;\n",
       "    }\n",
       "\n",
       "    .dataframe thead th {\n",
       "        text-align: right;\n",
       "    }\n",
       "</style>\n",
       "<table border=\"1\" class=\"dataframe\">\n",
       "  <thead>\n",
       "    <tr style=\"text-align: right;\">\n",
       "      <th></th>\n",
       "      <th>f0</th>\n",
       "      <th>f1</th>\n",
       "      <th>f2</th>\n",
       "      <th>product</th>\n",
       "    </tr>\n",
       "  </thead>\n",
       "  <tbody>\n",
       "    <tr>\n",
       "      <th>count</th>\n",
       "      <td>100000.000000</td>\n",
       "      <td>100000.000000</td>\n",
       "      <td>100000.000000</td>\n",
       "      <td>100000.000000</td>\n",
       "    </tr>\n",
       "    <tr>\n",
       "      <th>mean</th>\n",
       "      <td>1.141296</td>\n",
       "      <td>-4.796579</td>\n",
       "      <td>2.494541</td>\n",
       "      <td>68.825000</td>\n",
       "    </tr>\n",
       "    <tr>\n",
       "      <th>std</th>\n",
       "      <td>8.965932</td>\n",
       "      <td>5.119872</td>\n",
       "      <td>1.703572</td>\n",
       "      <td>45.944423</td>\n",
       "    </tr>\n",
       "    <tr>\n",
       "      <th>min</th>\n",
       "      <td>-31.609576</td>\n",
       "      <td>-26.358598</td>\n",
       "      <td>-0.018144</td>\n",
       "      <td>0.000000</td>\n",
       "    </tr>\n",
       "    <tr>\n",
       "      <th>25%</th>\n",
       "      <td>-6.298551</td>\n",
       "      <td>-8.267985</td>\n",
       "      <td>1.000021</td>\n",
       "      <td>26.953261</td>\n",
       "    </tr>\n",
       "    <tr>\n",
       "      <th>50%</th>\n",
       "      <td>1.153055</td>\n",
       "      <td>-4.813172</td>\n",
       "      <td>2.011479</td>\n",
       "      <td>57.085625</td>\n",
       "    </tr>\n",
       "    <tr>\n",
       "      <th>75%</th>\n",
       "      <td>8.621015</td>\n",
       "      <td>-1.332816</td>\n",
       "      <td>3.999904</td>\n",
       "      <td>107.813044</td>\n",
       "    </tr>\n",
       "    <tr>\n",
       "      <th>max</th>\n",
       "      <td>29.421755</td>\n",
       "      <td>18.734063</td>\n",
       "      <td>5.019721</td>\n",
       "      <td>137.945408</td>\n",
       "    </tr>\n",
       "  </tbody>\n",
       "</table>\n",
       "</div>"
      ],
      "text/plain": [
       "                  f0             f1             f2        product\n",
       "count  100000.000000  100000.000000  100000.000000  100000.000000\n",
       "mean        1.141296      -4.796579       2.494541      68.825000\n",
       "std         8.965932       5.119872       1.703572      45.944423\n",
       "min       -31.609576     -26.358598      -0.018144       0.000000\n",
       "25%        -6.298551      -8.267985       1.000021      26.953261\n",
       "50%         1.153055      -4.813172       2.011479      57.085625\n",
       "75%         8.621015      -1.332816       3.999904     107.813044\n",
       "max        29.421755      18.734063       5.019721     137.945408"
      ]
     },
     "execution_count": 10,
     "metadata": {},
     "output_type": "execute_result"
    }
   ],
   "source": [
    "df_2.describe()"
   ]
  },
  {
   "cell_type": "code",
   "execution_count": 11,
   "metadata": {},
   "outputs": [
    {
     "data": {
      "text/plain": [
       "id         0\n",
       "f0         0\n",
       "f1         0\n",
       "f2         0\n",
       "product    0\n",
       "dtype: int64"
      ]
     },
     "execution_count": 11,
     "metadata": {},
     "output_type": "execute_result"
    }
   ],
   "source": [
    "df_2.isna().sum()"
   ]
  },
  {
   "cell_type": "code",
   "execution_count": 12,
   "metadata": {},
   "outputs": [
    {
     "data": {
      "text/plain": [
       "0"
      ]
     },
     "execution_count": 12,
     "metadata": {},
     "output_type": "execute_result"
    }
   ],
   "source": [
    "df_2.duplicated().sum()"
   ]
  },
  {
   "cell_type": "markdown",
   "metadata": {},
   "source": [
    "Во втором датафрейме пропусков и дубликатов нет. В дальнейшем необходимо будет нормализовать признаки данных."
   ]
  },
  {
   "cell_type": "code",
   "execution_count": 13,
   "metadata": {
    "scrolled": true
   },
   "outputs": [
    {
     "data": {
      "text/html": [
       "<div>\n",
       "<style scoped>\n",
       "    .dataframe tbody tr th:only-of-type {\n",
       "        vertical-align: middle;\n",
       "    }\n",
       "\n",
       "    .dataframe tbody tr th {\n",
       "        vertical-align: top;\n",
       "    }\n",
       "\n",
       "    .dataframe thead th {\n",
       "        text-align: right;\n",
       "    }\n",
       "</style>\n",
       "<table border=\"1\" class=\"dataframe\">\n",
       "  <thead>\n",
       "    <tr style=\"text-align: right;\">\n",
       "      <th></th>\n",
       "      <th>id</th>\n",
       "      <th>f0</th>\n",
       "      <th>f1</th>\n",
       "      <th>f2</th>\n",
       "      <th>product</th>\n",
       "    </tr>\n",
       "  </thead>\n",
       "  <tbody>\n",
       "    <tr>\n",
       "      <th>0</th>\n",
       "      <td>fwXo0</td>\n",
       "      <td>-1.146987</td>\n",
       "      <td>0.963328</td>\n",
       "      <td>-0.828965</td>\n",
       "      <td>27.758673</td>\n",
       "    </tr>\n",
       "    <tr>\n",
       "      <th>1</th>\n",
       "      <td>WJtFt</td>\n",
       "      <td>0.262778</td>\n",
       "      <td>0.269839</td>\n",
       "      <td>-2.530187</td>\n",
       "      <td>56.069697</td>\n",
       "    </tr>\n",
       "    <tr>\n",
       "      <th>2</th>\n",
       "      <td>ovLUW</td>\n",
       "      <td>0.194587</td>\n",
       "      <td>0.289035</td>\n",
       "      <td>-5.586433</td>\n",
       "      <td>62.871910</td>\n",
       "    </tr>\n",
       "    <tr>\n",
       "      <th>3</th>\n",
       "      <td>q6cA6</td>\n",
       "      <td>2.236060</td>\n",
       "      <td>-0.553760</td>\n",
       "      <td>0.930038</td>\n",
       "      <td>114.572842</td>\n",
       "    </tr>\n",
       "    <tr>\n",
       "      <th>4</th>\n",
       "      <td>WPMUX</td>\n",
       "      <td>-0.515993</td>\n",
       "      <td>1.716266</td>\n",
       "      <td>5.899011</td>\n",
       "      <td>149.600746</td>\n",
       "    </tr>\n",
       "  </tbody>\n",
       "</table>\n",
       "</div>"
      ],
      "text/plain": [
       "      id        f0        f1        f2     product\n",
       "0  fwXo0 -1.146987  0.963328 -0.828965   27.758673\n",
       "1  WJtFt  0.262778  0.269839 -2.530187   56.069697\n",
       "2  ovLUW  0.194587  0.289035 -5.586433   62.871910\n",
       "3  q6cA6  2.236060 -0.553760  0.930038  114.572842\n",
       "4  WPMUX -0.515993  1.716266  5.899011  149.600746"
      ]
     },
     "execution_count": 13,
     "metadata": {},
     "output_type": "execute_result"
    }
   ],
   "source": [
    "df_3.head()"
   ]
  },
  {
   "cell_type": "code",
   "execution_count": 14,
   "metadata": {},
   "outputs": [
    {
     "name": "stdout",
     "output_type": "stream",
     "text": [
      "<class 'pandas.core.frame.DataFrame'>\n",
      "RangeIndex: 100000 entries, 0 to 99999\n",
      "Data columns (total 5 columns):\n",
      " #   Column   Non-Null Count   Dtype  \n",
      "---  ------   --------------   -----  \n",
      " 0   id       100000 non-null  object \n",
      " 1   f0       100000 non-null  float64\n",
      " 2   f1       100000 non-null  float64\n",
      " 3   f2       100000 non-null  float64\n",
      " 4   product  100000 non-null  float64\n",
      "dtypes: float64(4), object(1)\n",
      "memory usage: 3.8+ MB\n"
     ]
    }
   ],
   "source": [
    "df_3.info()"
   ]
  },
  {
   "cell_type": "code",
   "execution_count": 15,
   "metadata": {},
   "outputs": [
    {
     "data": {
      "text/html": [
       "<div>\n",
       "<style scoped>\n",
       "    .dataframe tbody tr th:only-of-type {\n",
       "        vertical-align: middle;\n",
       "    }\n",
       "\n",
       "    .dataframe tbody tr th {\n",
       "        vertical-align: top;\n",
       "    }\n",
       "\n",
       "    .dataframe thead th {\n",
       "        text-align: right;\n",
       "    }\n",
       "</style>\n",
       "<table border=\"1\" class=\"dataframe\">\n",
       "  <thead>\n",
       "    <tr style=\"text-align: right;\">\n",
       "      <th></th>\n",
       "      <th>f0</th>\n",
       "      <th>f1</th>\n",
       "      <th>f2</th>\n",
       "      <th>product</th>\n",
       "    </tr>\n",
       "  </thead>\n",
       "  <tbody>\n",
       "    <tr>\n",
       "      <th>count</th>\n",
       "      <td>100000.000000</td>\n",
       "      <td>100000.000000</td>\n",
       "      <td>100000.000000</td>\n",
       "      <td>100000.000000</td>\n",
       "    </tr>\n",
       "    <tr>\n",
       "      <th>mean</th>\n",
       "      <td>0.002023</td>\n",
       "      <td>-0.002081</td>\n",
       "      <td>2.495128</td>\n",
       "      <td>95.000000</td>\n",
       "    </tr>\n",
       "    <tr>\n",
       "      <th>std</th>\n",
       "      <td>1.732045</td>\n",
       "      <td>1.730417</td>\n",
       "      <td>3.473445</td>\n",
       "      <td>44.749921</td>\n",
       "    </tr>\n",
       "    <tr>\n",
       "      <th>min</th>\n",
       "      <td>-8.760004</td>\n",
       "      <td>-7.084020</td>\n",
       "      <td>-11.970335</td>\n",
       "      <td>0.000000</td>\n",
       "    </tr>\n",
       "    <tr>\n",
       "      <th>25%</th>\n",
       "      <td>-1.162288</td>\n",
       "      <td>-1.174820</td>\n",
       "      <td>0.130359</td>\n",
       "      <td>59.450441</td>\n",
       "    </tr>\n",
       "    <tr>\n",
       "      <th>50%</th>\n",
       "      <td>0.009424</td>\n",
       "      <td>-0.009482</td>\n",
       "      <td>2.484236</td>\n",
       "      <td>94.925613</td>\n",
       "    </tr>\n",
       "    <tr>\n",
       "      <th>75%</th>\n",
       "      <td>1.158535</td>\n",
       "      <td>1.163678</td>\n",
       "      <td>4.858794</td>\n",
       "      <td>130.595027</td>\n",
       "    </tr>\n",
       "    <tr>\n",
       "      <th>max</th>\n",
       "      <td>7.238262</td>\n",
       "      <td>7.844801</td>\n",
       "      <td>16.739402</td>\n",
       "      <td>190.029838</td>\n",
       "    </tr>\n",
       "  </tbody>\n",
       "</table>\n",
       "</div>"
      ],
      "text/plain": [
       "                  f0             f1             f2        product\n",
       "count  100000.000000  100000.000000  100000.000000  100000.000000\n",
       "mean        0.002023      -0.002081       2.495128      95.000000\n",
       "std         1.732045       1.730417       3.473445      44.749921\n",
       "min        -8.760004      -7.084020     -11.970335       0.000000\n",
       "25%        -1.162288      -1.174820       0.130359      59.450441\n",
       "50%         0.009424      -0.009482       2.484236      94.925613\n",
       "75%         1.158535       1.163678       4.858794     130.595027\n",
       "max         7.238262       7.844801      16.739402     190.029838"
      ]
     },
     "execution_count": 15,
     "metadata": {},
     "output_type": "execute_result"
    }
   ],
   "source": [
    "df_3.describe()"
   ]
  },
  {
   "cell_type": "code",
   "execution_count": 16,
   "metadata": {},
   "outputs": [
    {
     "data": {
      "text/plain": [
       "id         0\n",
       "f0         0\n",
       "f1         0\n",
       "f2         0\n",
       "product    0\n",
       "dtype: int64"
      ]
     },
     "execution_count": 16,
     "metadata": {},
     "output_type": "execute_result"
    }
   ],
   "source": [
    "df_3.isna().sum()"
   ]
  },
  {
   "cell_type": "code",
   "execution_count": 17,
   "metadata": {},
   "outputs": [
    {
     "data": {
      "text/plain": [
       "0"
      ]
     },
     "execution_count": 17,
     "metadata": {},
     "output_type": "execute_result"
    }
   ],
   "source": [
    "df_3.duplicated().sum()"
   ]
  },
  {
   "cell_type": "markdown",
   "metadata": {},
   "source": [
    "В 3 датафрейме пропусков и дубликатов нет. В дальнейшем необходимо будет нормализовать признаки данных."
   ]
  },
  {
   "cell_type": "markdown",
   "metadata": {},
   "source": [
    "Поскольку столбец с id не является признаком, вляиющим на добычу нефти, то целессобразно удалить его."
   ]
  },
  {
   "cell_type": "code",
   "execution_count": 18,
   "metadata": {},
   "outputs": [],
   "source": [
    "df_1 = df_1.drop('id', 1)\n",
    "df_2 = df_2.drop('id', 1)\n",
    "df_3 = df_3.drop('id', 1)"
   ]
  },
  {
   "cell_type": "markdown",
   "metadata": {},
   "source": [
    "**Выделим целевой признак и разделим данные на обучающую и валидационную**"
   ]
  },
  {
   "cell_type": "code",
   "execution_count": 19,
   "metadata": {},
   "outputs": [],
   "source": [
    "def main_feature(df):\n",
    "    features = df.drop('product', 1)\n",
    "    target = df['product']\n",
    "    return features, target"
   ]
  },
  {
   "cell_type": "code",
   "execution_count": 20,
   "metadata": {},
   "outputs": [
    {
     "data": {
      "text/html": [
       "<div>\n",
       "<style scoped>\n",
       "    .dataframe tbody tr th:only-of-type {\n",
       "        vertical-align: middle;\n",
       "    }\n",
       "\n",
       "    .dataframe tbody tr th {\n",
       "        vertical-align: top;\n",
       "    }\n",
       "\n",
       "    .dataframe thead th {\n",
       "        text-align: right;\n",
       "    }\n",
       "</style>\n",
       "<table border=\"1\" class=\"dataframe\">\n",
       "  <thead>\n",
       "    <tr style=\"text-align: right;\">\n",
       "      <th></th>\n",
       "      <th>f0</th>\n",
       "      <th>f1</th>\n",
       "      <th>f2</th>\n",
       "    </tr>\n",
       "  </thead>\n",
       "  <tbody>\n",
       "    <tr>\n",
       "      <th>0</th>\n",
       "      <td>0.705745</td>\n",
       "      <td>-0.497823</td>\n",
       "      <td>1.221170</td>\n",
       "    </tr>\n",
       "    <tr>\n",
       "      <th>1</th>\n",
       "      <td>1.334711</td>\n",
       "      <td>-0.340164</td>\n",
       "      <td>4.365080</td>\n",
       "    </tr>\n",
       "    <tr>\n",
       "      <th>2</th>\n",
       "      <td>1.022732</td>\n",
       "      <td>0.151990</td>\n",
       "      <td>1.419926</td>\n",
       "    </tr>\n",
       "    <tr>\n",
       "      <th>3</th>\n",
       "      <td>-0.032172</td>\n",
       "      <td>0.139033</td>\n",
       "      <td>2.978566</td>\n",
       "    </tr>\n",
       "    <tr>\n",
       "      <th>4</th>\n",
       "      <td>1.988431</td>\n",
       "      <td>0.155413</td>\n",
       "      <td>4.751769</td>\n",
       "    </tr>\n",
       "    <tr>\n",
       "      <th>5</th>\n",
       "      <td>0.969570</td>\n",
       "      <td>0.489775</td>\n",
       "      <td>-0.735383</td>\n",
       "    </tr>\n",
       "    <tr>\n",
       "      <th>6</th>\n",
       "      <td>0.645075</td>\n",
       "      <td>0.530656</td>\n",
       "      <td>1.780266</td>\n",
       "    </tr>\n",
       "    <tr>\n",
       "      <th>7</th>\n",
       "      <td>-0.400648</td>\n",
       "      <td>0.808337</td>\n",
       "      <td>-5.624670</td>\n",
       "    </tr>\n",
       "    <tr>\n",
       "      <th>8</th>\n",
       "      <td>0.643105</td>\n",
       "      <td>-0.551583</td>\n",
       "      <td>2.372141</td>\n",
       "    </tr>\n",
       "    <tr>\n",
       "      <th>9</th>\n",
       "      <td>2.173381</td>\n",
       "      <td>0.563698</td>\n",
       "      <td>9.441852</td>\n",
       "    </tr>\n",
       "  </tbody>\n",
       "</table>\n",
       "</div>"
      ],
      "text/plain": [
       "         f0        f1        f2\n",
       "0  0.705745 -0.497823  1.221170\n",
       "1  1.334711 -0.340164  4.365080\n",
       "2  1.022732  0.151990  1.419926\n",
       "3 -0.032172  0.139033  2.978566\n",
       "4  1.988431  0.155413  4.751769\n",
       "5  0.969570  0.489775 -0.735383\n",
       "6  0.645075  0.530656  1.780266\n",
       "7 -0.400648  0.808337 -5.624670\n",
       "8  0.643105 -0.551583  2.372141\n",
       "9  2.173381  0.563698  9.441852"
      ]
     },
     "execution_count": 20,
     "metadata": {},
     "output_type": "execute_result"
    }
   ],
   "source": [
    "features_1, target_1 = main_feature(df_1)\n",
    "features_2, target_2 = main_feature(df_2)\n",
    "features_3, target_3 = main_feature(df_3)\n",
    "features_1.head(10)"
   ]
  },
  {
   "cell_type": "markdown",
   "metadata": {},
   "source": [
    "Нормализация данных"
   ]
  },
  {
   "cell_type": "code",
   "execution_count": 21,
   "metadata": {},
   "outputs": [],
   "source": [
    "def train_valid(features, target):\n",
    "    features_train, features_valid, target_train, target_valid = train_test_split(features, target, test_size=0.25, random_state=12345)\n",
    "    return features_train, features_valid, target_train, target_valid"
   ]
  },
  {
   "cell_type": "code",
   "execution_count": 22,
   "metadata": {
    "scrolled": true
   },
   "outputs": [
    {
     "data": {
      "text/plain": [
       "75000"
      ]
     },
     "execution_count": 22,
     "metadata": {},
     "output_type": "execute_result"
    }
   ],
   "source": [
    "features_train_1, features_valid_1, target_train_1, target_valid_1 = train_valid(features_1, target_1)\n",
    "features_train_2, features_valid_2, target_train_2, target_valid_2 = train_valid(features_2, target_2)\n",
    "features_train_3, features_valid_3, target_train_3, target_valid_3 = train_valid(features_3, target_3)\n",
    "features_train_1.shape[0]"
   ]
  },
  {
   "cell_type": "code",
   "execution_count": 23,
   "metadata": {},
   "outputs": [],
   "source": [
    "def scale(features, change):\n",
    "    scaler = StandardScaler()\n",
    "    scaler.fit(features)\n",
    "    features_sc = pd.DataFrame(scaler.transform(change), columns = features.columns)\n",
    "    return features_sc"
   ]
  },
  {
   "cell_type": "code",
   "execution_count": 24,
   "metadata": {},
   "outputs": [],
   "source": [
    "features_train_sc_1 = scale(features_train_1, features_train_1)\n",
    "features_valid_sc_1 = scale(features_train_1, features_valid_1)\n",
    "features_train_sc_2 = scale(features_train_2, features_train_2)\n",
    "features_valid_sc_2 = scale(features_train_2, features_valid_2)\n",
    "features_train_sc_3 = scale(features_train_3, features_train_3)\n",
    "features_valid_sc_3 = scale(features_train_3, features_valid_3)"
   ]
  },
  {
   "cell_type": "markdown",
   "metadata": {},
   "source": [
    "**Выводы**"
   ]
  },
  {
   "cell_type": "markdown",
   "metadata": {},
   "source": [
    "1. Первая таблица содержит в себе 3 признака (столбец с id был удален, так как данный признак не влияет на целевой признак. \n",
    "2. Данный стандартизированы.\n",
    "3. Пропусков и дубликатов в датафреймах не обнаружено."
   ]
  },
  {
   "cell_type": "markdown",
   "metadata": {},
   "source": [
    "## Обучение и проверка модели"
   ]
  },
  {
   "cell_type": "markdown",
   "metadata": {},
   "source": [
    "Для обучения модели подходит только линейная регрессия, так как остальные — недостаточно предсказуемые."
   ]
  },
  {
   "cell_type": "code",
   "execution_count": 25,
   "metadata": {},
   "outputs": [],
   "source": [
    "def ml_learn(features_train, target_train, features_valid, target_valid):\n",
    "    model = LinearRegression()\n",
    "    model.fit(features_train, target_train)\n",
    "    predictions = model.predict(features_valid)\n",
    "    result = mean_squared_error(predictions, target_valid)\n",
    "\n",
    "    return predictions, result ** 0.5"
   ]
  },
  {
   "cell_type": "code",
   "execution_count": 26,
   "metadata": {
    "scrolled": true
   },
   "outputs": [
    {
     "name": "stdout",
     "output_type": "stream",
     "text": [
      "Регион 1\n",
      "Средний запас прдсказанного сырья в регионе: 92.59256778438035\n",
      "Средне квадратическая ошибка составляет: 37.5794217150813\n"
     ]
    }
   ],
   "source": [
    "print('Регион 1')\n",
    "predictions_1, rmse =ml_learn(features_train_sc_1, target_train_1, features_valid_sc_1, target_valid_1)\n",
    "print('Средний запас прдсказанного сырья в регионе:', predictions_1.mean())\n",
    "print('Средне квадратическая ошибка составляет:', rmse)"
   ]
  },
  {
   "cell_type": "markdown",
   "metadata": {},
   "source": [
    "На примере первой модели можно сделать вывод, что модель с предсказанием справляется не точно, так как средне квадратическая ошибка (отклонение) составляет более 30% от средне предсказанной добычи в регионе."
   ]
  },
  {
   "cell_type": "code",
   "execution_count": 27,
   "metadata": {
    "scrolled": true
   },
   "outputs": [
    {
     "name": "stdout",
     "output_type": "stream",
     "text": [
      "Регион 2\n",
      "Средний запас прдсказанного сырья в регионе: 68.728546895446\n",
      "Средне квадратическая ошибка составляет: 0.8930992867756167\n"
     ]
    }
   ],
   "source": [
    "print('Регион 2')\n",
    "predictions_2, rmse =ml_learn(features_train_sc_2, target_train_2, features_valid_sc_2, target_valid_2)\n",
    "print('Средний запас прдсказанного сырья в регионе:', predictions_2.mean())\n",
    "print('Средне квадратическая ошибка составляет:', rmse)"
   ]
  },
  {
   "cell_type": "markdown",
   "metadata": {},
   "source": [
    "Вторая модель справляется неплохо с предсказанием, но при этом средняя предсказанная добыча во втором регионе в среднем на 28 % меньше чем в регионах 1 и 3."
   ]
  },
  {
   "cell_type": "code",
   "execution_count": 28,
   "metadata": {
    "scrolled": true
   },
   "outputs": [
    {
     "name": "stdout",
     "output_type": "stream",
     "text": [
      "Регион 3\n",
      "Средний запас прдсказанного сырья в регионе: 94.96504596800489\n",
      "Средне квадратическая ошибка составляет: 40.02970873393434\n"
     ]
    }
   ],
   "source": [
    "print('Регион 3')\n",
    "predictions_3, rmse =ml_learn(features_train_sc_3, target_train_3, features_valid_sc_3, target_valid_3)\n",
    "print('Средний запас прдсказанного сырья в регионе:', predictions_3.mean())\n",
    "print('Средне квадратическая ошибка составляет:', rmse)"
   ]
  },
  {
   "cell_type": "markdown",
   "metadata": {},
   "source": [
    "На примере 3 модели можно сделать вывод, что модель с предсказанием справляется не точно, так как средне квадратическая ошибка (отклонение) составляет более 30% от средне предсказанной добычи в регионе."
   ]
  },
  {
   "cell_type": "markdown",
   "metadata": {},
   "source": [
    "## Подготовка к расчёту прибыли"
   ]
  },
  {
   "cell_type": "code",
   "execution_count": 29,
   "metadata": {
    "scrolled": false
   },
   "outputs": [
    {
     "name": "stdout",
     "output_type": "stream",
     "text": [
      "Достаточный объём сырья для безубыточности новой скважины = 111.11111111111111\n"
     ]
    }
   ],
   "source": [
    "budget_all = 10000000000\n",
    "budget_one = budget_all / 200 #для одной скважины в одном регионе\n",
    "income_per_barrel = 450000\n",
    "lim_research = 500\n",
    "lim_invest = 200\n",
    "print('Достаточный объём сырья для безубыточности новой скважины =', budget_one / income_per_barrel)"
   ]
  },
  {
   "cell_type": "markdown",
   "metadata": {},
   "source": [
    "Необходимый объём сырья для безубыточности новой скважины больше средних запасов в каждом из 3 регионов. разница особо ощутима для региона номер 2."
   ]
  },
  {
   "cell_type": "markdown",
   "metadata": {},
   "source": [
    "## Расчёт прибыли и рисков "
   ]
  },
  {
   "cell_type": "code",
   "execution_count": 30,
   "metadata": {},
   "outputs": [],
   "source": [
    "def profit(predictions, target_valid, lim_invest):\n",
    "    predictions = pd.Series(predictions)\n",
    "    target_valid = target_valid.reset_index(drop=True)\n",
    "    predictions_sort = predictions.sort_values(ascending=False)\n",
    "    revenue = target_valid[predictions_sort.index][:lim_invest]\n",
    "    return revenue.sum() * income_per_barrel - budget_all"
   ]
  },
  {
   "cell_type": "code",
   "execution_count": 31,
   "metadata": {},
   "outputs": [
    {
     "data": {
      "text/plain": [
       "3320826043.1398506"
      ]
     },
     "execution_count": 31,
     "metadata": {},
     "output_type": "execute_result"
    }
   ],
   "source": [
    "profit_1 = profit(predictions_1, target_valid_1, lim_invest)\n",
    "profit_1"
   ]
  },
  {
   "cell_type": "code",
   "execution_count": 32,
   "metadata": {},
   "outputs": [
    {
     "data": {
      "text/plain": [
       "2415086696.681511"
      ]
     },
     "execution_count": 32,
     "metadata": {},
     "output_type": "execute_result"
    }
   ],
   "source": [
    "profit_2 = profit(predictions_2, target_valid_2, lim_invest)\n",
    "profit_2"
   ]
  },
  {
   "cell_type": "code",
   "execution_count": 33,
   "metadata": {},
   "outputs": [
    {
     "data": {
      "text/plain": [
       "2710349963.5998325"
      ]
     },
     "execution_count": 33,
     "metadata": {},
     "output_type": "execute_result"
    }
   ],
   "source": [
    "profit_3 = profit(predictions_3, target_valid_3, lim_invest)\n",
    "profit_3"
   ]
  },
  {
   "cell_type": "markdown",
   "metadata": {},
   "source": [
    "Наиболее прибыльны скважины в регионе номер 1."
   ]
  },
  {
   "cell_type": "code",
   "execution_count": 34,
   "metadata": {},
   "outputs": [],
   "source": [
    "state = RandomState(12345)\n",
    "bootstrap_samples = 1000\n",
    "def mean_prof_interval_risk_check(predictions, target_valid):\n",
    "    values = []\n",
    "    predictions = pd.Series(predictions)\n",
    "    for i in range(bootstrap_samples):\n",
    "        probabilities = predictions.sample(n=500, random_state=state, replace=True)\n",
    "        value = profit(probabilities, target_valid, 200)\n",
    "        values.append(value)\n",
    "    values = pd.Series(values)\n",
    "    lower = values.quantile(0.025)\n",
    "    upper = values.quantile(0.975)\n",
    "    return values.mean(), lower, upper, (values < 0).mean()\n",
    "    "
   ]
  },
  {
   "cell_type": "code",
   "execution_count": 35,
   "metadata": {},
   "outputs": [
    {
     "name": "stdout",
     "output_type": "stream",
     "text": [
      "Средняя прибыль: 396164984.802371\n",
      "Доверительный интервал 95% находится в промежутке от -111215545.89049526 до 909766941.5534226\n",
      "Риск убытков в долях равен: 0.069\n"
     ]
    }
   ],
   "source": [
    "profits_mean_1, lower, upper, risks = mean_prof_interval_risk_check(predictions_1, target_valid_1)\n",
    "\n",
    "print('Средняя прибыль:', profits_mean_1)\n",
    "print(f'Доверительный интервал 95% находится в промежутке от {lower} до {upper}')\n",
    "print('Риск убытков в долях равен:', risks)"
   ]
  },
  {
   "cell_type": "code",
   "execution_count": 36,
   "metadata": {
    "scrolled": true
   },
   "outputs": [
    {
     "name": "stdout",
     "output_type": "stream",
     "text": [
      "Средняя прибыль: 461155817.27723986\n",
      "Доверительный интервал 95% находится в промежутке от 78050810.7517417 до 862952060.2637234\n",
      "Риск убытков в долях равен: 0.007\n"
     ]
    }
   ],
   "source": [
    "profits_mean_2, lower, upper, risks = mean_prof_interval_risk_check(predictions_2, target_valid_2)\n",
    "\n",
    "print('Средняя прибыль:', profits_mean_2)\n",
    "print(f'Доверительный интервал 95% находится в промежутке от {lower} до {upper}')\n",
    "print('Риск убытков в долях равен:', risks)"
   ]
  },
  {
   "cell_type": "code",
   "execution_count": 37,
   "metadata": {},
   "outputs": [
    {
     "name": "stdout",
     "output_type": "stream",
     "text": [
      "Средняя прибыль: 392950475.17060375\n",
      "Доверительный интервал 95% находится в промежутке от -112227625.37857565 до 934562914.5511636\n",
      "Риск убытков в долях равен: 0.065\n"
     ]
    }
   ],
   "source": [
    "profits_mean_3, lower, upper, risks = mean_prof_interval_risk_check(predictions_3, target_valid_3)\n",
    "\n",
    "print('Средняя прибыль:', profits_mean_3)\n",
    "print(f'Доверительный интервал 95% находится в промежутке от {lower} до {upper}')\n",
    "print('Риск убытков в долях равен:', risks)"
   ]
  },
  {
   "cell_type": "markdown",
   "metadata": {},
   "source": [
    "**Вывод**"
   ]
  },
  {
   "cell_type": "markdown",
   "metadata": {},
   "source": [
    "Наиболее оптимальным для инвестирования в бурение новых скважин является регион номер два. Он оказался прибыльным и наименее рискованным."
   ]
  },
  {
   "cell_type": "markdown",
   "metadata": {},
   "source": [
    "## Общий вывод"
   ]
  },
  {
   "cell_type": "markdown",
   "metadata": {},
   "source": [
    "1. Первая таблица содержит в себе 3 признака (столбец с id был удален, так как данный признак не влияет на целевой признак. \n",
    "2. Данный стандартизированы.\n",
    "3. Пропусков и дубликатов в датафреймах не обнаружено.\n",
    "4. Средний запас прдсказанного сырья в регионе 1: 92.59256778438035\n",
    "5. Средне квадратическая ошибка составляет: 37.5794217150813\n",
    "6. На примере первой модели можно сделать вывод, что модель с предсказанием справляется не точно, так как средне квадратическая ошибка (отклонение) составляет более 30% от средне предсказанной добычи в регионе\n",
    "7. Средний запас прдсказанного сырья в регионе 2: 68.72854689544602\n",
    "8. Средне квадратическая ошибка составляет: 0.893099286775617\n",
    "9. Вторая модель справляется неплохо с предсказанием, но при этом средняя предсказанная добыча во втором регионе в среднем на 28 % меньше чем в регионах 1 и 3.\n",
    "10. Средний запас прдсказанного сырья в регионе 3: 94.96504596800489\n",
    "11. Средне квадратическая ошибка составляет: 0.893099286775617\n",
    "12. На примере 3 модели можно сделать вывод, что модель с предсказанием справляется не точно, так как средне квадратическая ошибка (отклонение) составляет более 30% от средне предсказанной добычи в регионе.\n",
    "13. Достаточный объём сырья для безубыточности новой скважины = 111.11111111111111\n",
    "14. Необходимый объём сырья для безубыточности новой скважины больше средних запасов в каждом из 3 регионов. разница особо ощутима для региона номер 2.\n",
    "15. Наиболее оптимальным для инвестирования в бурение новых скважин является регион номер один. Он оказался прибыльным и наименее рискованным."
   ]
  }
 ],
 "metadata": {
  "ExecuteTimeLog": [
   {
    "duration": 437,
    "start_time": "2022-03-27T09:34:29.477Z"
   },
   {
    "duration": 335,
    "start_time": "2022-03-27T09:40:27.528Z"
   },
   {
    "duration": 65,
    "start_time": "2022-03-27T09:40:43.460Z"
   },
   {
    "duration": 18,
    "start_time": "2022-03-27T09:40:47.784Z"
   },
   {
    "duration": 15,
    "start_time": "2022-03-27T09:41:27.511Z"
   },
   {
    "duration": 9,
    "start_time": "2022-03-27T09:44:23.040Z"
   },
   {
    "duration": 14,
    "start_time": "2022-03-27T09:44:33.090Z"
   },
   {
    "duration": 37,
    "start_time": "2022-03-27T09:44:45.221Z"
   },
   {
    "duration": 10,
    "start_time": "2022-03-27T09:45:18.384Z"
   },
   {
    "duration": 51,
    "start_time": "2022-03-27T09:46:09.297Z"
   },
   {
    "duration": 47,
    "start_time": "2022-03-27T09:46:20.681Z"
   },
   {
    "duration": 36,
    "start_time": "2022-03-27T09:47:26.670Z"
   },
   {
    "duration": 10,
    "start_time": "2022-03-27T09:47:40.153Z"
   },
   {
    "duration": 41,
    "start_time": "2022-03-27T09:47:49.670Z"
   },
   {
    "duration": 51,
    "start_time": "2022-03-27T09:47:56.325Z"
   },
   {
    "duration": 15,
    "start_time": "2022-03-27T09:51:00.609Z"
   },
   {
    "duration": 17,
    "start_time": "2022-03-27T09:51:15.537Z"
   },
   {
    "duration": 15,
    "start_time": "2022-03-27T09:51:26.657Z"
   },
   {
    "duration": 16,
    "start_time": "2022-03-27T09:51:31.609Z"
   },
   {
    "duration": 37,
    "start_time": "2022-03-27T09:51:42.820Z"
   },
   {
    "duration": 61,
    "start_time": "2022-03-27T09:52:01.594Z"
   },
   {
    "duration": 1470,
    "start_time": "2022-03-28T08:04:23.235Z"
   },
   {
    "duration": 4,
    "start_time": "2022-03-28T08:04:36.732Z"
   },
   {
    "duration": 369,
    "start_time": "2022-03-28T08:04:42.063Z"
   },
   {
    "duration": 24,
    "start_time": "2022-03-28T08:04:42.476Z"
   },
   {
    "duration": 19,
    "start_time": "2022-03-28T08:04:43.311Z"
   },
   {
    "duration": 44,
    "start_time": "2022-03-28T08:04:44.184Z"
   },
   {
    "duration": 13,
    "start_time": "2022-03-28T08:04:45.032Z"
   },
   {
    "duration": 64,
    "start_time": "2022-03-28T08:04:45.600Z"
   },
   {
    "duration": 12,
    "start_time": "2022-03-28T08:04:46.296Z"
   },
   {
    "duration": 20,
    "start_time": "2022-03-28T08:04:46.603Z"
   },
   {
    "duration": 42,
    "start_time": "2022-03-28T08:04:46.874Z"
   },
   {
    "duration": 13,
    "start_time": "2022-03-28T08:04:47.139Z"
   },
   {
    "duration": 59,
    "start_time": "2022-03-28T08:04:47.379Z"
   },
   {
    "duration": 15,
    "start_time": "2022-03-28T08:04:47.855Z"
   },
   {
    "duration": 19,
    "start_time": "2022-03-28T08:04:48.089Z"
   },
   {
    "duration": 40,
    "start_time": "2022-03-28T08:04:48.338Z"
   },
   {
    "duration": 13,
    "start_time": "2022-03-28T08:04:48.591Z"
   },
   {
    "duration": 62,
    "start_time": "2022-03-28T08:04:49.172Z"
   },
   {
    "duration": 23,
    "start_time": "2022-03-28T08:05:57.626Z"
   },
   {
    "duration": 4,
    "start_time": "2022-03-28T08:26:21.635Z"
   },
   {
    "duration": 16,
    "start_time": "2022-03-28T08:27:32.975Z"
   },
   {
    "duration": 29,
    "start_time": "2022-03-28T08:39:09.525Z"
   },
   {
    "duration": 26,
    "start_time": "2022-03-28T08:39:15.615Z"
   },
   {
    "duration": 13,
    "start_time": "2022-03-28T08:39:26.341Z"
   },
   {
    "duration": 45,
    "start_time": "2022-03-28T08:39:49.460Z"
   },
   {
    "duration": 43,
    "start_time": "2022-03-28T08:42:06.122Z"
   },
   {
    "duration": 19,
    "start_time": "2022-03-28T08:42:39.041Z"
   },
   {
    "duration": 46,
    "start_time": "2022-03-28T10:18:56.056Z"
   },
   {
    "duration": 1410,
    "start_time": "2022-03-28T10:19:16.680Z"
   },
   {
    "duration": 344,
    "start_time": "2022-03-28T10:19:18.094Z"
   },
   {
    "duration": 17,
    "start_time": "2022-03-28T10:19:18.440Z"
   },
   {
    "duration": 15,
    "start_time": "2022-03-28T10:19:18.463Z"
   },
   {
    "duration": 33,
    "start_time": "2022-03-28T10:19:18.480Z"
   },
   {
    "duration": 9,
    "start_time": "2022-03-28T10:19:18.515Z"
   },
   {
    "duration": 75,
    "start_time": "2022-03-28T10:19:18.526Z"
   },
   {
    "duration": 9,
    "start_time": "2022-03-28T10:19:18.602Z"
   },
   {
    "duration": 16,
    "start_time": "2022-03-28T10:19:18.613Z"
   },
   {
    "duration": 51,
    "start_time": "2022-03-28T10:19:18.632Z"
   },
   {
    "duration": 10,
    "start_time": "2022-03-28T10:19:18.684Z"
   },
   {
    "duration": 42,
    "start_time": "2022-03-28T10:19:18.696Z"
   },
   {
    "duration": 26,
    "start_time": "2022-03-28T10:19:18.740Z"
   },
   {
    "duration": 16,
    "start_time": "2022-03-28T10:19:18.768Z"
   },
   {
    "duration": 34,
    "start_time": "2022-03-28T10:19:18.785Z"
   },
   {
    "duration": 9,
    "start_time": "2022-03-28T10:19:18.821Z"
   },
   {
    "duration": 74,
    "start_time": "2022-03-28T10:19:18.832Z"
   },
   {
    "duration": 12,
    "start_time": "2022-03-28T10:19:18.907Z"
   },
   {
    "duration": 7,
    "start_time": "2022-03-28T10:19:18.920Z"
   },
   {
    "duration": 18,
    "start_time": "2022-03-28T10:19:18.928Z"
   },
   {
    "duration": 25,
    "start_time": "2022-03-28T10:19:18.948Z"
   },
   {
    "duration": 3,
    "start_time": "2022-03-28T10:19:18.974Z"
   },
   {
    "duration": 13,
    "start_time": "2022-03-28T10:20:05.584Z"
   },
   {
    "duration": 18,
    "start_time": "2022-03-28T10:23:18.539Z"
   },
   {
    "duration": 18,
    "start_time": "2022-03-28T10:23:34.031Z"
   },
   {
    "duration": 4,
    "start_time": "2022-03-28T10:31:36.910Z"
   },
   {
    "duration": 1177,
    "start_time": "2022-03-28T10:38:52.838Z"
   },
   {
    "duration": 316,
    "start_time": "2022-03-28T10:38:54.016Z"
   },
   {
    "duration": 16,
    "start_time": "2022-03-28T10:38:54.334Z"
   },
   {
    "duration": 23,
    "start_time": "2022-03-28T10:38:54.352Z"
   },
   {
    "duration": 31,
    "start_time": "2022-03-28T10:38:54.376Z"
   },
   {
    "duration": 9,
    "start_time": "2022-03-28T10:38:54.409Z"
   },
   {
    "duration": 66,
    "start_time": "2022-03-28T10:38:54.419Z"
   },
   {
    "duration": 7,
    "start_time": "2022-03-28T10:38:54.487Z"
   },
   {
    "duration": 18,
    "start_time": "2022-03-28T10:38:54.496Z"
   },
   {
    "duration": 30,
    "start_time": "2022-03-28T10:38:54.516Z"
   },
   {
    "duration": 21,
    "start_time": "2022-03-28T10:38:54.548Z"
   },
   {
    "duration": 38,
    "start_time": "2022-03-28T10:38:54.570Z"
   },
   {
    "duration": 8,
    "start_time": "2022-03-28T10:38:54.610Z"
   },
   {
    "duration": 15,
    "start_time": "2022-03-28T10:38:54.619Z"
   },
   {
    "duration": 49,
    "start_time": "2022-03-28T10:38:54.636Z"
   },
   {
    "duration": 9,
    "start_time": "2022-03-28T10:38:54.687Z"
   },
   {
    "duration": 46,
    "start_time": "2022-03-28T10:38:54.698Z"
   },
   {
    "duration": 9,
    "start_time": "2022-03-28T10:38:54.762Z"
   },
   {
    "duration": 6,
    "start_time": "2022-03-28T10:38:54.772Z"
   },
   {
    "duration": 15,
    "start_time": "2022-03-28T10:38:54.779Z"
   },
   {
    "duration": 5,
    "start_time": "2022-03-28T10:38:54.795Z"
   },
   {
    "duration": 109,
    "start_time": "2022-03-28T10:38:54.802Z"
   },
   {
    "duration": 0,
    "start_time": "2022-03-28T10:38:54.913Z"
   },
   {
    "duration": 0,
    "start_time": "2022-03-28T10:38:54.914Z"
   },
   {
    "duration": 2,
    "start_time": "2022-03-28T10:39:11.813Z"
   },
   {
    "duration": 25,
    "start_time": "2022-03-28T10:39:12.766Z"
   },
   {
    "duration": 2,
    "start_time": "2022-03-28T10:39:13.965Z"
   },
   {
    "duration": 31,
    "start_time": "2022-03-28T10:39:14.822Z"
   },
   {
    "duration": 43,
    "start_time": "2022-03-28T10:39:31.506Z"
   },
   {
    "duration": 27,
    "start_time": "2022-03-28T10:43:39.674Z"
   },
   {
    "duration": 27,
    "start_time": "2022-03-28T10:53:53.513Z"
   },
   {
    "duration": 17,
    "start_time": "2022-03-28T11:13:25.090Z"
   },
   {
    "duration": 26,
    "start_time": "2022-03-28T11:13:34.352Z"
   },
   {
    "duration": 11,
    "start_time": "2022-03-28T11:13:52.999Z"
   },
   {
    "duration": 10,
    "start_time": "2022-03-28T11:14:17.244Z"
   },
   {
    "duration": 12,
    "start_time": "2022-03-28T11:14:36.932Z"
   },
   {
    "duration": 19,
    "start_time": "2022-03-28T11:19:34.978Z"
   },
   {
    "duration": 12,
    "start_time": "2022-03-28T11:19:42.327Z"
   },
   {
    "duration": 3,
    "start_time": "2022-03-28T11:25:17.516Z"
   },
   {
    "duration": 14,
    "start_time": "2022-03-28T11:33:18.114Z"
   },
   {
    "duration": 13,
    "start_time": "2022-03-28T11:33:26.920Z"
   },
   {
    "duration": 13,
    "start_time": "2022-03-28T11:33:30.195Z"
   },
   {
    "duration": 23,
    "start_time": "2022-03-28T11:40:05.840Z"
   },
   {
    "duration": 1156,
    "start_time": "2022-03-28T18:49:48.994Z"
   },
   {
    "duration": 353,
    "start_time": "2022-03-28T18:49:50.152Z"
   },
   {
    "duration": 14,
    "start_time": "2022-03-28T18:49:50.507Z"
   },
   {
    "duration": 14,
    "start_time": "2022-03-28T18:49:50.524Z"
   },
   {
    "duration": 49,
    "start_time": "2022-03-28T18:49:50.540Z"
   },
   {
    "duration": 8,
    "start_time": "2022-03-28T18:49:50.591Z"
   },
   {
    "duration": 42,
    "start_time": "2022-03-28T18:49:50.601Z"
   },
   {
    "duration": 8,
    "start_time": "2022-03-28T18:49:50.645Z"
   },
   {
    "duration": 35,
    "start_time": "2022-03-28T18:49:50.655Z"
   },
   {
    "duration": 32,
    "start_time": "2022-03-28T18:49:50.692Z"
   },
   {
    "duration": 9,
    "start_time": "2022-03-28T18:49:50.725Z"
   },
   {
    "duration": 63,
    "start_time": "2022-03-28T18:49:50.736Z"
   },
   {
    "duration": 10,
    "start_time": "2022-03-28T18:49:50.801Z"
   },
   {
    "duration": 19,
    "start_time": "2022-03-28T18:49:50.813Z"
   },
   {
    "duration": 50,
    "start_time": "2022-03-28T18:49:50.834Z"
   },
   {
    "duration": 8,
    "start_time": "2022-03-28T18:49:50.885Z"
   },
   {
    "duration": 48,
    "start_time": "2022-03-28T18:49:50.895Z"
   },
   {
    "duration": 11,
    "start_time": "2022-03-28T18:49:50.944Z"
   },
   {
    "duration": 10,
    "start_time": "2022-03-28T18:49:50.956Z"
   },
   {
    "duration": 19,
    "start_time": "2022-03-28T18:49:50.968Z"
   },
   {
    "duration": 14,
    "start_time": "2022-03-28T18:49:50.988Z"
   },
   {
    "duration": 30,
    "start_time": "2022-03-28T18:49:51.003Z"
   },
   {
    "duration": 4,
    "start_time": "2022-03-28T18:49:51.034Z"
   },
   {
    "duration": 42,
    "start_time": "2022-03-28T18:49:51.039Z"
   },
   {
    "duration": 15,
    "start_time": "2022-03-28T18:49:51.083Z"
   },
   {
    "duration": 185,
    "start_time": "2022-03-28T18:49:51.102Z"
   },
   {
    "duration": 95,
    "start_time": "2022-03-28T18:49:51.289Z"
   },
   {
    "duration": 3,
    "start_time": "2022-03-28T19:24:22.238Z"
   },
   {
    "duration": 3,
    "start_time": "2022-03-28T19:28:11.107Z"
   },
   {
    "duration": 3,
    "start_time": "2022-03-28T19:28:17.328Z"
   },
   {
    "duration": 3,
    "start_time": "2022-03-28T20:33:09.645Z"
   },
   {
    "duration": 3,
    "start_time": "2022-03-28T20:42:35.838Z"
   },
   {
    "duration": 143,
    "start_time": "2022-03-28T20:43:16.530Z"
   },
   {
    "duration": 4,
    "start_time": "2022-03-28T20:44:11.018Z"
   },
   {
    "duration": 28,
    "start_time": "2022-03-28T20:44:11.462Z"
   },
   {
    "duration": 3,
    "start_time": "2022-03-28T20:50:32.845Z"
   },
   {
    "duration": 8,
    "start_time": "2022-03-28T20:50:34.943Z"
   },
   {
    "duration": 3,
    "start_time": "2022-03-28T20:53:54.949Z"
   },
   {
    "duration": 11,
    "start_time": "2022-03-28T20:53:55.995Z"
   },
   {
    "duration": 10,
    "start_time": "2022-03-28T20:55:57.022Z"
   },
   {
    "duration": 8,
    "start_time": "2022-03-28T20:55:58.971Z"
   },
   {
    "duration": 3,
    "start_time": "2022-03-28T21:05:52.900Z"
   },
   {
    "duration": 5,
    "start_time": "2022-03-28T21:39:42.076Z"
   },
   {
    "duration": 8,
    "start_time": "2022-03-28T21:41:01.618Z"
   },
   {
    "duration": 6,
    "start_time": "2022-03-28T21:41:07.959Z"
   },
   {
    "duration": 12,
    "start_time": "2022-03-28T21:41:08.577Z"
   },
   {
    "duration": 5,
    "start_time": "2022-03-28T21:41:50.240Z"
   },
   {
    "duration": 721,
    "start_time": "2022-03-28T21:41:52.009Z"
   },
   {
    "duration": 5,
    "start_time": "2022-03-28T21:42:16.598Z"
   },
   {
    "duration": 16,
    "start_time": "2022-03-28T21:42:17.211Z"
   },
   {
    "duration": 5,
    "start_time": "2022-03-28T21:42:41.487Z"
   },
   {
    "duration": 683,
    "start_time": "2022-03-28T21:42:42.547Z"
   },
   {
    "duration": 686,
    "start_time": "2022-03-28T21:42:55.336Z"
   },
   {
    "duration": 677,
    "start_time": "2022-03-28T21:44:31.411Z"
   },
   {
    "duration": 698,
    "start_time": "2022-03-28T21:44:33.511Z"
   },
   {
    "duration": 6,
    "start_time": "2022-03-28T21:48:31.844Z"
   },
   {
    "duration": 695,
    "start_time": "2022-03-28T21:48:32.506Z"
   },
   {
    "duration": 1102,
    "start_time": "2022-03-28T21:48:55.796Z"
   },
   {
    "duration": 349,
    "start_time": "2022-03-28T21:48:56.900Z"
   },
   {
    "duration": 15,
    "start_time": "2022-03-28T21:48:57.250Z"
   },
   {
    "duration": 24,
    "start_time": "2022-03-28T21:48:57.267Z"
   },
   {
    "duration": 31,
    "start_time": "2022-03-28T21:48:57.292Z"
   },
   {
    "duration": 8,
    "start_time": "2022-03-28T21:48:57.324Z"
   },
   {
    "duration": 54,
    "start_time": "2022-03-28T21:48:57.333Z"
   },
   {
    "duration": 7,
    "start_time": "2022-03-28T21:48:57.389Z"
   },
   {
    "duration": 18,
    "start_time": "2022-03-28T21:48:57.398Z"
   },
   {
    "duration": 31,
    "start_time": "2022-03-28T21:48:57.419Z"
   },
   {
    "duration": 30,
    "start_time": "2022-03-28T21:48:57.452Z"
   },
   {
    "duration": 39,
    "start_time": "2022-03-28T21:48:57.483Z"
   },
   {
    "duration": 12,
    "start_time": "2022-03-28T21:48:57.524Z"
   },
   {
    "duration": 16,
    "start_time": "2022-03-28T21:48:57.538Z"
   },
   {
    "duration": 50,
    "start_time": "2022-03-28T21:48:57.556Z"
   },
   {
    "duration": 9,
    "start_time": "2022-03-28T21:48:57.608Z"
   },
   {
    "duration": 41,
    "start_time": "2022-03-28T21:48:57.619Z"
   },
   {
    "duration": 28,
    "start_time": "2022-03-28T21:48:57.661Z"
   },
   {
    "duration": 4,
    "start_time": "2022-03-28T21:48:57.691Z"
   },
   {
    "duration": 16,
    "start_time": "2022-03-28T21:48:57.696Z"
   },
   {
    "duration": 6,
    "start_time": "2022-03-28T21:48:57.713Z"
   },
   {
    "duration": 25,
    "start_time": "2022-03-28T21:48:57.720Z"
   },
   {
    "duration": 3,
    "start_time": "2022-03-28T21:48:57.747Z"
   },
   {
    "duration": 59,
    "start_time": "2022-03-28T21:48:57.752Z"
   },
   {
    "duration": 73,
    "start_time": "2022-03-28T21:48:57.812Z"
   },
   {
    "duration": 112,
    "start_time": "2022-03-28T21:48:57.886Z"
   },
   {
    "duration": 106,
    "start_time": "2022-03-28T21:48:58.081Z"
   },
   {
    "duration": 91,
    "start_time": "2022-03-28T21:48:58.191Z"
   },
   {
    "duration": 100,
    "start_time": "2022-03-28T21:48:58.285Z"
   },
   {
    "duration": 10,
    "start_time": "2022-03-28T21:48:58.387Z"
   },
   {
    "duration": 8,
    "start_time": "2022-03-28T21:48:58.398Z"
   },
   {
    "duration": 8,
    "start_time": "2022-03-28T21:48:58.408Z"
   },
   {
    "duration": 5,
    "start_time": "2022-03-28T21:48:58.417Z"
   },
   {
    "duration": 812,
    "start_time": "2022-03-28T21:48:58.424Z"
   },
   {
    "duration": 0,
    "start_time": "2022-03-28T21:48:59.238Z"
   },
   {
    "duration": 0,
    "start_time": "2022-03-28T21:48:59.239Z"
   },
   {
    "duration": 774,
    "start_time": "2022-03-28T21:49:34.700Z"
   },
   {
    "duration": 706,
    "start_time": "2022-03-28T21:49:38.457Z"
   },
   {
    "duration": 3,
    "start_time": "2022-03-28T21:51:42.761Z"
   },
   {
    "duration": 695,
    "start_time": "2022-03-28T21:51:50.219Z"
   },
   {
    "duration": 697,
    "start_time": "2022-03-28T21:51:58.178Z"
   },
   {
    "duration": 5,
    "start_time": "2022-03-28T21:54:22.475Z"
   },
   {
    "duration": 683,
    "start_time": "2022-03-28T21:54:22.906Z"
   },
   {
    "duration": 5,
    "start_time": "2022-03-28T21:57:04.661Z"
   },
   {
    "duration": 700,
    "start_time": "2022-03-28T21:57:05.288Z"
   },
   {
    "duration": 681,
    "start_time": "2022-03-28T21:57:23.276Z"
   },
   {
    "duration": 671,
    "start_time": "2022-03-28T21:57:34.756Z"
   },
   {
    "duration": 670,
    "start_time": "2022-03-28T21:57:56.117Z"
   },
   {
    "duration": 665,
    "start_time": "2022-03-28T21:58:31.477Z"
   },
   {
    "duration": 5,
    "start_time": "2022-03-28T22:03:49.941Z"
   },
   {
    "duration": 720,
    "start_time": "2022-03-28T22:03:50.745Z"
   },
   {
    "duration": 663,
    "start_time": "2022-03-28T22:03:56.378Z"
   },
   {
    "duration": 907,
    "start_time": "2022-03-28T22:03:58.218Z"
   },
   {
    "duration": 1119,
    "start_time": "2022-03-28T22:07:37.429Z"
   },
   {
    "duration": 349,
    "start_time": "2022-03-28T22:07:38.550Z"
   },
   {
    "duration": 16,
    "start_time": "2022-03-28T22:07:38.900Z"
   },
   {
    "duration": 22,
    "start_time": "2022-03-28T22:07:38.918Z"
   },
   {
    "duration": 39,
    "start_time": "2022-03-28T22:07:38.942Z"
   },
   {
    "duration": 8,
    "start_time": "2022-03-28T22:07:38.983Z"
   },
   {
    "duration": 48,
    "start_time": "2022-03-28T22:07:38.993Z"
   },
   {
    "duration": 8,
    "start_time": "2022-03-28T22:07:39.043Z"
   },
   {
    "duration": 29,
    "start_time": "2022-03-28T22:07:39.052Z"
   },
   {
    "duration": 32,
    "start_time": "2022-03-28T22:07:39.084Z"
   },
   {
    "duration": 8,
    "start_time": "2022-03-28T22:07:39.118Z"
   },
   {
    "duration": 55,
    "start_time": "2022-03-28T22:07:39.127Z"
   },
   {
    "duration": 9,
    "start_time": "2022-03-28T22:07:39.183Z"
   },
   {
    "duration": 18,
    "start_time": "2022-03-28T22:07:39.194Z"
   },
   {
    "duration": 32,
    "start_time": "2022-03-28T22:07:39.213Z"
   },
   {
    "duration": 35,
    "start_time": "2022-03-28T22:07:39.247Z"
   },
   {
    "duration": 47,
    "start_time": "2022-03-28T22:07:39.284Z"
   },
   {
    "duration": 12,
    "start_time": "2022-03-28T22:07:39.332Z"
   },
   {
    "duration": 6,
    "start_time": "2022-03-28T22:07:39.345Z"
   },
   {
    "duration": 33,
    "start_time": "2022-03-28T22:07:39.352Z"
   },
   {
    "duration": 13,
    "start_time": "2022-03-28T22:07:39.386Z"
   },
   {
    "duration": 25,
    "start_time": "2022-03-28T22:07:39.400Z"
   },
   {
    "duration": 3,
    "start_time": "2022-03-28T22:07:39.427Z"
   },
   {
    "duration": 39,
    "start_time": "2022-03-28T22:07:39.431Z"
   },
   {
    "duration": 118,
    "start_time": "2022-03-28T22:07:39.472Z"
   },
   {
    "duration": 99,
    "start_time": "2022-03-28T22:07:39.593Z"
   },
   {
    "duration": 194,
    "start_time": "2022-03-28T22:07:39.693Z"
   },
   {
    "duration": 188,
    "start_time": "2022-03-28T22:07:39.893Z"
   },
   {
    "duration": 7,
    "start_time": "2022-03-28T22:07:40.083Z"
   },
   {
    "duration": 10,
    "start_time": "2022-03-28T22:07:40.092Z"
   },
   {
    "duration": 7,
    "start_time": "2022-03-28T22:07:40.104Z"
   },
   {
    "duration": 7,
    "start_time": "2022-03-28T22:07:40.113Z"
   },
   {
    "duration": 5,
    "start_time": "2022-03-28T22:07:40.121Z"
   },
   {
    "duration": 748,
    "start_time": "2022-03-28T22:07:40.127Z"
   },
   {
    "duration": 782,
    "start_time": "2022-03-28T22:07:40.881Z"
   },
   {
    "duration": 699,
    "start_time": "2022-03-28T22:07:41.665Z"
   },
   {
    "duration": 1280,
    "start_time": "2022-03-30T06:10:42.516Z"
   },
   {
    "duration": 467,
    "start_time": "2022-03-30T06:10:43.798Z"
   },
   {
    "duration": 20,
    "start_time": "2022-03-30T06:10:44.267Z"
   },
   {
    "duration": 18,
    "start_time": "2022-03-30T06:10:44.289Z"
   },
   {
    "duration": 40,
    "start_time": "2022-03-30T06:10:44.309Z"
   },
   {
    "duration": 35,
    "start_time": "2022-03-30T06:10:44.350Z"
   },
   {
    "duration": 43,
    "start_time": "2022-03-30T06:10:44.387Z"
   },
   {
    "duration": 8,
    "start_time": "2022-03-30T06:10:44.431Z"
   },
   {
    "duration": 14,
    "start_time": "2022-03-30T06:10:44.441Z"
   },
   {
    "duration": 51,
    "start_time": "2022-03-30T06:10:44.458Z"
   },
   {
    "duration": 8,
    "start_time": "2022-03-30T06:10:44.511Z"
   },
   {
    "duration": 39,
    "start_time": "2022-03-30T06:10:44.521Z"
   },
   {
    "duration": 21,
    "start_time": "2022-03-30T06:10:44.561Z"
   },
   {
    "duration": 21,
    "start_time": "2022-03-30T06:10:44.584Z"
   },
   {
    "duration": 31,
    "start_time": "2022-03-30T06:10:44.607Z"
   },
   {
    "duration": 10,
    "start_time": "2022-03-30T06:10:44.640Z"
   },
   {
    "duration": 66,
    "start_time": "2022-03-30T06:10:44.651Z"
   },
   {
    "duration": 12,
    "start_time": "2022-03-30T06:10:44.719Z"
   },
   {
    "duration": 10,
    "start_time": "2022-03-30T06:10:44.732Z"
   },
   {
    "duration": 14,
    "start_time": "2022-03-30T06:10:44.743Z"
   },
   {
    "duration": 8,
    "start_time": "2022-03-30T06:10:44.758Z"
   },
   {
    "duration": 34,
    "start_time": "2022-03-30T06:10:44.767Z"
   },
   {
    "duration": 3,
    "start_time": "2022-03-30T06:10:44.803Z"
   },
   {
    "duration": 43,
    "start_time": "2022-03-30T06:10:44.807Z"
   },
   {
    "duration": 4,
    "start_time": "2022-03-30T06:10:44.852Z"
   },
   {
    "duration": 42,
    "start_time": "2022-03-30T06:10:44.857Z"
   },
   {
    "duration": 103,
    "start_time": "2022-03-30T06:10:44.981Z"
   },
   {
    "duration": 105,
    "start_time": "2022-03-30T06:10:45.087Z"
   },
   {
    "duration": 96,
    "start_time": "2022-03-30T06:10:45.196Z"
   },
   {
    "duration": 95,
    "start_time": "2022-03-30T06:10:45.294Z"
   },
   {
    "duration": 25,
    "start_time": "2022-03-30T06:10:45.391Z"
   },
   {
    "duration": 11,
    "start_time": "2022-03-30T06:10:45.417Z"
   },
   {
    "duration": 12,
    "start_time": "2022-03-30T06:10:45.430Z"
   },
   {
    "duration": 14,
    "start_time": "2022-03-30T06:10:45.443Z"
   },
   {
    "duration": 706,
    "start_time": "2022-03-30T06:10:45.458Z"
   },
   {
    "duration": 662,
    "start_time": "2022-03-30T06:10:46.165Z"
   },
   {
    "duration": 678,
    "start_time": "2022-03-30T06:10:46.829Z"
   },
   {
    "duration": 88,
    "start_time": "2022-03-30T06:13:08.454Z"
   },
   {
    "duration": 11,
    "start_time": "2022-03-30T06:13:34.887Z"
   },
   {
    "duration": 3,
    "start_time": "2022-03-30T06:13:48.137Z"
   },
   {
    "duration": 18,
    "start_time": "2022-03-30T06:13:48.446Z"
   },
   {
    "duration": 8,
    "start_time": "2022-03-30T06:14:32.819Z"
   },
   {
    "duration": 3,
    "start_time": "2022-03-30T06:14:38.065Z"
   },
   {
    "duration": 18,
    "start_time": "2022-03-30T06:14:38.812Z"
   },
   {
    "duration": 12,
    "start_time": "2022-03-30T06:14:41.942Z"
   },
   {
    "duration": 11,
    "start_time": "2022-03-30T06:14:43.462Z"
   },
   {
    "duration": 13,
    "start_time": "2022-03-30T06:15:35.466Z"
   },
   {
    "duration": 13,
    "start_time": "2022-03-30T06:15:36.449Z"
   },
   {
    "duration": 11,
    "start_time": "2022-03-30T06:15:37.386Z"
   },
   {
    "duration": 1060,
    "start_time": "2022-03-30T06:15:43.695Z"
   },
   {
    "duration": 344,
    "start_time": "2022-03-30T06:15:44.757Z"
   },
   {
    "duration": 16,
    "start_time": "2022-03-30T06:15:45.102Z"
   },
   {
    "duration": 15,
    "start_time": "2022-03-30T06:15:45.120Z"
   },
   {
    "duration": 54,
    "start_time": "2022-03-30T06:15:45.136Z"
   },
   {
    "duration": 9,
    "start_time": "2022-03-30T06:15:45.191Z"
   },
   {
    "duration": 40,
    "start_time": "2022-03-30T06:15:45.202Z"
   },
   {
    "duration": 8,
    "start_time": "2022-03-30T06:15:45.243Z"
   },
   {
    "duration": 32,
    "start_time": "2022-03-30T06:15:45.253Z"
   },
   {
    "duration": 29,
    "start_time": "2022-03-30T06:15:45.288Z"
   },
   {
    "duration": 9,
    "start_time": "2022-03-30T06:15:45.318Z"
   },
   {
    "duration": 60,
    "start_time": "2022-03-30T06:15:45.329Z"
   },
   {
    "duration": 7,
    "start_time": "2022-03-30T06:15:45.391Z"
   },
   {
    "duration": 14,
    "start_time": "2022-03-30T06:15:45.400Z"
   },
   {
    "duration": 29,
    "start_time": "2022-03-30T06:15:45.416Z"
   },
   {
    "duration": 36,
    "start_time": "2022-03-30T06:15:45.447Z"
   },
   {
    "duration": 40,
    "start_time": "2022-03-30T06:15:45.485Z"
   },
   {
    "duration": 12,
    "start_time": "2022-03-30T06:15:45.527Z"
   },
   {
    "duration": 9,
    "start_time": "2022-03-30T06:15:45.540Z"
   },
   {
    "duration": 19,
    "start_time": "2022-03-30T06:15:45.551Z"
   },
   {
    "duration": 10,
    "start_time": "2022-03-30T06:15:45.571Z"
   },
   {
    "duration": 25,
    "start_time": "2022-03-30T06:15:45.582Z"
   },
   {
    "duration": 3,
    "start_time": "2022-03-30T06:15:45.608Z"
   },
   {
    "duration": 34,
    "start_time": "2022-03-30T06:15:45.612Z"
   },
   {
    "duration": 3,
    "start_time": "2022-03-30T06:15:45.648Z"
   },
   {
    "duration": 38,
    "start_time": "2022-03-30T06:15:45.653Z"
   },
   {
    "duration": 105,
    "start_time": "2022-03-30T06:15:45.782Z"
   },
   {
    "duration": 197,
    "start_time": "2022-03-30T06:15:45.891Z"
   },
   {
    "duration": 199,
    "start_time": "2022-03-30T06:15:46.093Z"
   },
   {
    "duration": 192,
    "start_time": "2022-03-30T06:15:46.294Z"
   },
   {
    "duration": 101,
    "start_time": "2022-03-30T06:15:46.581Z"
   },
   {
    "duration": 101,
    "start_time": "2022-03-30T06:15:46.684Z"
   },
   {
    "duration": 15,
    "start_time": "2022-03-30T06:15:46.787Z"
   },
   {
    "duration": 19,
    "start_time": "2022-03-30T06:15:46.804Z"
   },
   {
    "duration": 10,
    "start_time": "2022-03-30T06:15:46.824Z"
   },
   {
    "duration": 12,
    "start_time": "2022-03-30T06:15:46.835Z"
   },
   {
    "duration": 17,
    "start_time": "2022-03-30T06:15:46.848Z"
   },
   {
    "duration": 684,
    "start_time": "2022-03-30T06:15:46.868Z"
   },
   {
    "duration": 681,
    "start_time": "2022-03-30T06:15:47.554Z"
   },
   {
    "duration": 675,
    "start_time": "2022-03-30T06:15:48.237Z"
   },
   {
    "duration": 4,
    "start_time": "2022-03-30T06:17:12.653Z"
   },
   {
    "duration": 14,
    "start_time": "2022-03-30T06:17:13.021Z"
   },
   {
    "duration": 13,
    "start_time": "2022-03-30T06:17:23.287Z"
   },
   {
    "duration": 13,
    "start_time": "2022-03-30T06:17:29.714Z"
   },
   {
    "duration": 4,
    "start_time": "2022-03-30T07:29:57.302Z"
   },
   {
    "duration": 87,
    "start_time": "2022-03-30T07:30:04.719Z"
   },
   {
    "duration": 5,
    "start_time": "2022-03-30T07:31:15.328Z"
   },
   {
    "duration": 12,
    "start_time": "2022-03-30T07:31:17.170Z"
   },
   {
    "duration": 4,
    "start_time": "2022-03-30T07:31:39.714Z"
   },
   {
    "duration": 662,
    "start_time": "2022-03-30T07:31:42.983Z"
   },
   {
    "duration": 5,
    "start_time": "2022-03-30T07:32:06.111Z"
   },
   {
    "duration": 672,
    "start_time": "2022-03-30T07:32:07.484Z"
   },
   {
    "duration": 5,
    "start_time": "2022-03-30T07:32:24.434Z"
   },
   {
    "duration": 654,
    "start_time": "2022-03-30T07:32:26.359Z"
   },
   {
    "duration": 4,
    "start_time": "2022-03-30T07:32:35.248Z"
   },
   {
    "duration": 659,
    "start_time": "2022-03-30T07:32:37.060Z"
   },
   {
    "duration": 664,
    "start_time": "2022-03-30T07:32:42.725Z"
   },
   {
    "duration": 668,
    "start_time": "2022-03-30T07:32:47.083Z"
   },
   {
    "duration": 1264,
    "start_time": "2022-03-30T07:35:20.677Z"
   },
   {
    "duration": 358,
    "start_time": "2022-03-30T07:35:21.943Z"
   },
   {
    "duration": 14,
    "start_time": "2022-03-30T07:35:22.303Z"
   },
   {
    "duration": 14,
    "start_time": "2022-03-30T07:35:22.319Z"
   },
   {
    "duration": 53,
    "start_time": "2022-03-30T07:35:22.334Z"
   },
   {
    "duration": 8,
    "start_time": "2022-03-30T07:35:22.389Z"
   },
   {
    "duration": 41,
    "start_time": "2022-03-30T07:35:22.399Z"
   },
   {
    "duration": 9,
    "start_time": "2022-03-30T07:35:22.442Z"
   },
   {
    "duration": 35,
    "start_time": "2022-03-30T07:35:22.452Z"
   },
   {
    "duration": 32,
    "start_time": "2022-03-30T07:35:22.489Z"
   },
   {
    "duration": 8,
    "start_time": "2022-03-30T07:35:22.523Z"
   },
   {
    "duration": 62,
    "start_time": "2022-03-30T07:35:22.533Z"
   },
   {
    "duration": 8,
    "start_time": "2022-03-30T07:35:22.597Z"
   },
   {
    "duration": 17,
    "start_time": "2022-03-30T07:35:22.606Z"
   },
   {
    "duration": 31,
    "start_time": "2022-03-30T07:35:22.624Z"
   },
   {
    "duration": 25,
    "start_time": "2022-03-30T07:35:22.656Z"
   },
   {
    "duration": 45,
    "start_time": "2022-03-30T07:35:22.683Z"
   },
   {
    "duration": 11,
    "start_time": "2022-03-30T07:35:22.730Z"
   },
   {
    "duration": 4,
    "start_time": "2022-03-30T07:35:22.743Z"
   },
   {
    "duration": 33,
    "start_time": "2022-03-30T07:35:22.749Z"
   },
   {
    "duration": 6,
    "start_time": "2022-03-30T07:35:22.783Z"
   },
   {
    "duration": 26,
    "start_time": "2022-03-30T07:35:22.791Z"
   },
   {
    "duration": 3,
    "start_time": "2022-03-30T07:35:22.818Z"
   },
   {
    "duration": 35,
    "start_time": "2022-03-30T07:35:22.822Z"
   },
   {
    "duration": 3,
    "start_time": "2022-03-30T07:35:22.858Z"
   },
   {
    "duration": 38,
    "start_time": "2022-03-30T07:35:22.863Z"
   },
   {
    "duration": 106,
    "start_time": "2022-03-30T07:35:22.982Z"
   },
   {
    "duration": 194,
    "start_time": "2022-03-30T07:35:23.093Z"
   },
   {
    "duration": 93,
    "start_time": "2022-03-30T07:35:23.293Z"
   },
   {
    "duration": 6,
    "start_time": "2022-03-30T07:35:23.480Z"
   },
   {
    "duration": 87,
    "start_time": "2022-03-30T07:35:23.488Z"
   },
   {
    "duration": 0,
    "start_time": "2022-03-30T07:35:23.580Z"
   },
   {
    "duration": 1,
    "start_time": "2022-03-30T07:35:23.581Z"
   },
   {
    "duration": 0,
    "start_time": "2022-03-30T07:35:23.583Z"
   },
   {
    "duration": 0,
    "start_time": "2022-03-30T07:35:23.584Z"
   },
   {
    "duration": 0,
    "start_time": "2022-03-30T07:35:23.585Z"
   },
   {
    "duration": 0,
    "start_time": "2022-03-30T07:35:23.586Z"
   },
   {
    "duration": 93,
    "start_time": "2022-03-30T07:36:55.997Z"
   },
   {
    "duration": 14,
    "start_time": "2022-03-30T07:37:13.527Z"
   },
   {
    "duration": 9,
    "start_time": "2022-03-30T07:37:19.043Z"
   },
   {
    "duration": 12,
    "start_time": "2022-03-30T07:37:39.758Z"
   },
   {
    "duration": 3,
    "start_time": "2022-03-30T07:38:23.285Z"
   },
   {
    "duration": 16,
    "start_time": "2022-03-30T07:38:24.166Z"
   },
   {
    "duration": 8,
    "start_time": "2022-03-30T07:38:39.332Z"
   },
   {
    "duration": 1069,
    "start_time": "2022-03-30T07:41:49.087Z"
   },
   {
    "duration": 344,
    "start_time": "2022-03-30T07:41:50.158Z"
   },
   {
    "duration": 16,
    "start_time": "2022-03-30T07:41:50.504Z"
   },
   {
    "duration": 19,
    "start_time": "2022-03-30T07:41:50.522Z"
   },
   {
    "duration": 39,
    "start_time": "2022-03-30T07:41:50.542Z"
   },
   {
    "duration": 9,
    "start_time": "2022-03-30T07:41:50.583Z"
   },
   {
    "duration": 45,
    "start_time": "2022-03-30T07:41:50.593Z"
   },
   {
    "duration": 8,
    "start_time": "2022-03-30T07:41:50.639Z"
   },
   {
    "duration": 41,
    "start_time": "2022-03-30T07:41:50.649Z"
   },
   {
    "duration": 32,
    "start_time": "2022-03-30T07:41:50.692Z"
   },
   {
    "duration": 9,
    "start_time": "2022-03-30T07:41:50.725Z"
   },
   {
    "duration": 61,
    "start_time": "2022-03-30T07:41:50.735Z"
   },
   {
    "duration": 16,
    "start_time": "2022-03-30T07:41:50.798Z"
   },
   {
    "duration": 15,
    "start_time": "2022-03-30T07:41:50.816Z"
   },
   {
    "duration": 31,
    "start_time": "2022-03-30T07:41:50.832Z"
   },
   {
    "duration": 8,
    "start_time": "2022-03-30T07:41:50.881Z"
   },
   {
    "duration": 39,
    "start_time": "2022-03-30T07:41:50.891Z"
   },
   {
    "duration": 9,
    "start_time": "2022-03-30T07:41:50.932Z"
   },
   {
    "duration": 6,
    "start_time": "2022-03-30T07:41:50.943Z"
   },
   {
    "duration": 31,
    "start_time": "2022-03-30T07:41:50.950Z"
   },
   {
    "duration": 3,
    "start_time": "2022-03-30T07:41:50.983Z"
   },
   {
    "duration": 30,
    "start_time": "2022-03-30T07:41:50.988Z"
   },
   {
    "duration": 3,
    "start_time": "2022-03-30T07:41:51.020Z"
   },
   {
    "duration": 35,
    "start_time": "2022-03-30T07:41:51.025Z"
   },
   {
    "duration": 3,
    "start_time": "2022-03-30T07:41:51.080Z"
   },
   {
    "duration": 23,
    "start_time": "2022-03-30T07:41:51.085Z"
   },
   {
    "duration": 104,
    "start_time": "2022-03-30T07:41:51.182Z"
   },
   {
    "duration": 192,
    "start_time": "2022-03-30T07:41:51.292Z"
   },
   {
    "duration": 5,
    "start_time": "2022-03-30T07:41:51.486Z"
   },
   {
    "duration": 3,
    "start_time": "2022-03-30T07:41:51.582Z"
   },
   {
    "duration": 99,
    "start_time": "2022-03-30T07:41:51.587Z"
   },
   {
    "duration": 0,
    "start_time": "2022-03-30T07:41:51.688Z"
   },
   {
    "duration": 0,
    "start_time": "2022-03-30T07:41:51.689Z"
   },
   {
    "duration": 0,
    "start_time": "2022-03-30T07:41:51.690Z"
   },
   {
    "duration": 0,
    "start_time": "2022-03-30T07:41:51.692Z"
   },
   {
    "duration": 0,
    "start_time": "2022-03-30T07:41:51.693Z"
   },
   {
    "duration": 0,
    "start_time": "2022-03-30T07:41:51.694Z"
   },
   {
    "duration": 4,
    "start_time": "2022-03-30T07:43:08.346Z"
   },
   {
    "duration": 14,
    "start_time": "2022-03-30T07:43:08.841Z"
   },
   {
    "duration": 3,
    "start_time": "2022-03-30T07:45:55.586Z"
   },
   {
    "duration": 13,
    "start_time": "2022-03-30T07:45:56.061Z"
   },
   {
    "duration": 14,
    "start_time": "2022-03-30T07:45:59.115Z"
   },
   {
    "duration": 13,
    "start_time": "2022-03-30T07:46:20.580Z"
   },
   {
    "duration": 1046,
    "start_time": "2022-03-30T07:46:31.527Z"
   },
   {
    "duration": 341,
    "start_time": "2022-03-30T07:46:32.575Z"
   },
   {
    "duration": 16,
    "start_time": "2022-03-30T07:46:32.918Z"
   },
   {
    "duration": 14,
    "start_time": "2022-03-30T07:46:32.936Z"
   },
   {
    "duration": 48,
    "start_time": "2022-03-30T07:46:32.951Z"
   },
   {
    "duration": 9,
    "start_time": "2022-03-30T07:46:33.000Z"
   },
   {
    "duration": 42,
    "start_time": "2022-03-30T07:46:33.011Z"
   },
   {
    "duration": 8,
    "start_time": "2022-03-30T07:46:33.055Z"
   },
   {
    "duration": 13,
    "start_time": "2022-03-30T07:46:33.081Z"
   },
   {
    "duration": 30,
    "start_time": "2022-03-30T07:46:33.097Z"
   },
   {
    "duration": 9,
    "start_time": "2022-03-30T07:46:33.128Z"
   },
   {
    "duration": 64,
    "start_time": "2022-03-30T07:46:33.138Z"
   },
   {
    "duration": 11,
    "start_time": "2022-03-30T07:46:33.205Z"
   },
   {
    "duration": 17,
    "start_time": "2022-03-30T07:46:33.218Z"
   },
   {
    "duration": 48,
    "start_time": "2022-03-30T07:46:33.237Z"
   },
   {
    "duration": 9,
    "start_time": "2022-03-30T07:46:33.286Z"
   },
   {
    "duration": 41,
    "start_time": "2022-03-30T07:46:33.296Z"
   },
   {
    "duration": 10,
    "start_time": "2022-03-30T07:46:33.338Z"
   },
   {
    "duration": 8,
    "start_time": "2022-03-30T07:46:33.349Z"
   },
   {
    "duration": 33,
    "start_time": "2022-03-30T07:46:33.358Z"
   },
   {
    "duration": 4,
    "start_time": "2022-03-30T07:46:33.392Z"
   },
   {
    "duration": 24,
    "start_time": "2022-03-30T07:46:33.397Z"
   },
   {
    "duration": 3,
    "start_time": "2022-03-30T07:46:33.423Z"
   },
   {
    "duration": 55,
    "start_time": "2022-03-30T07:46:33.427Z"
   },
   {
    "duration": 3,
    "start_time": "2022-03-30T07:46:33.483Z"
   },
   {
    "duration": 94,
    "start_time": "2022-03-30T07:46:33.487Z"
   },
   {
    "duration": 105,
    "start_time": "2022-03-30T07:46:33.583Z"
   },
   {
    "duration": 190,
    "start_time": "2022-03-30T07:46:33.692Z"
   },
   {
    "duration": 5,
    "start_time": "2022-03-30T07:46:33.884Z"
   },
   {
    "duration": 3,
    "start_time": "2022-03-30T07:46:33.981Z"
   },
   {
    "duration": 13,
    "start_time": "2022-03-30T07:46:33.986Z"
   },
   {
    "duration": 13,
    "start_time": "2022-03-30T07:46:34.000Z"
   },
   {
    "duration": 12,
    "start_time": "2022-03-30T07:46:34.015Z"
   },
   {
    "duration": 5,
    "start_time": "2022-03-30T07:46:34.029Z"
   },
   {
    "duration": 710,
    "start_time": "2022-03-30T07:46:34.035Z"
   },
   {
    "duration": 696,
    "start_time": "2022-03-30T07:46:34.747Z"
   },
   {
    "duration": 692,
    "start_time": "2022-03-30T07:46:35.445Z"
   },
   {
    "duration": 1443,
    "start_time": "2022-03-31T15:46:53.839Z"
   },
   {
    "duration": 382,
    "start_time": "2022-03-31T15:46:55.284Z"
   },
   {
    "duration": 23,
    "start_time": "2022-03-31T15:46:55.668Z"
   },
   {
    "duration": 27,
    "start_time": "2022-03-31T15:46:55.694Z"
   },
   {
    "duration": 56,
    "start_time": "2022-03-31T15:46:55.723Z"
   },
   {
    "duration": 14,
    "start_time": "2022-03-31T15:46:55.782Z"
   },
   {
    "duration": 55,
    "start_time": "2022-03-31T15:46:55.798Z"
   },
   {
    "duration": 13,
    "start_time": "2022-03-31T15:46:55.855Z"
   },
   {
    "duration": 38,
    "start_time": "2022-03-31T15:46:55.870Z"
   },
   {
    "duration": 34,
    "start_time": "2022-03-31T15:46:55.910Z"
   },
   {
    "duration": 9,
    "start_time": "2022-03-31T15:46:55.945Z"
   },
   {
    "duration": 45,
    "start_time": "2022-03-31T15:46:55.955Z"
   },
   {
    "duration": 15,
    "start_time": "2022-03-31T15:46:56.001Z"
   },
   {
    "duration": 22,
    "start_time": "2022-03-31T15:46:56.017Z"
   },
   {
    "duration": 44,
    "start_time": "2022-03-31T15:46:56.040Z"
   },
   {
    "duration": 14,
    "start_time": "2022-03-31T15:46:56.088Z"
   },
   {
    "duration": 46,
    "start_time": "2022-03-31T15:46:56.103Z"
   },
   {
    "duration": 32,
    "start_time": "2022-03-31T15:46:56.150Z"
   },
   {
    "duration": 50,
    "start_time": "2022-03-31T15:46:56.185Z"
   },
   {
    "duration": 22,
    "start_time": "2022-03-31T15:46:56.236Z"
   },
   {
    "duration": 36,
    "start_time": "2022-03-31T15:46:56.260Z"
   },
   {
    "duration": 33,
    "start_time": "2022-03-31T15:46:56.298Z"
   },
   {
    "duration": 3,
    "start_time": "2022-03-31T15:46:56.332Z"
   },
   {
    "duration": 46,
    "start_time": "2022-03-31T15:46:56.337Z"
   },
   {
    "duration": 5,
    "start_time": "2022-03-31T15:46:56.384Z"
   },
   {
    "duration": 83,
    "start_time": "2022-03-31T15:46:56.393Z"
   },
   {
    "duration": 101,
    "start_time": "2022-03-31T15:46:56.478Z"
   },
   {
    "duration": 189,
    "start_time": "2022-03-31T15:46:56.590Z"
   },
   {
    "duration": 6,
    "start_time": "2022-03-31T15:46:56.781Z"
   },
   {
    "duration": 198,
    "start_time": "2022-03-31T15:46:56.790Z"
   },
   {
    "duration": 16,
    "start_time": "2022-03-31T15:46:56.990Z"
   },
   {
    "duration": 10,
    "start_time": "2022-03-31T15:46:57.008Z"
   },
   {
    "duration": 10,
    "start_time": "2022-03-31T15:46:57.020Z"
   },
   {
    "duration": 6,
    "start_time": "2022-03-31T15:46:57.031Z"
   },
   {
    "duration": 739,
    "start_time": "2022-03-31T15:46:57.039Z"
   },
   {
    "duration": 719,
    "start_time": "2022-03-31T15:46:57.782Z"
   },
   {
    "duration": 724,
    "start_time": "2022-03-31T15:46:58.503Z"
   },
   {
    "duration": 4,
    "start_time": "2022-03-31T15:48:19.515Z"
   },
   {
    "duration": 1045,
    "start_time": "2022-03-31T15:48:22.521Z"
   },
   {
    "duration": 724,
    "start_time": "2022-03-31T15:48:25.728Z"
   },
   {
    "duration": 760,
    "start_time": "2022-03-31T15:48:31.488Z"
   },
   {
    "duration": 1178,
    "start_time": "2022-03-31T15:50:06.009Z"
   },
   {
    "duration": 343,
    "start_time": "2022-03-31T15:50:07.192Z"
   },
   {
    "duration": 16,
    "start_time": "2022-03-31T15:50:07.536Z"
   },
   {
    "duration": 19,
    "start_time": "2022-03-31T15:50:07.554Z"
   },
   {
    "duration": 57,
    "start_time": "2022-03-31T15:50:07.575Z"
   },
   {
    "duration": 9,
    "start_time": "2022-03-31T15:50:07.633Z"
   },
   {
    "duration": 59,
    "start_time": "2022-03-31T15:50:07.643Z"
   },
   {
    "duration": 8,
    "start_time": "2022-03-31T15:50:07.704Z"
   },
   {
    "duration": 17,
    "start_time": "2022-03-31T15:50:07.713Z"
   },
   {
    "duration": 57,
    "start_time": "2022-03-31T15:50:07.733Z"
   },
   {
    "duration": 11,
    "start_time": "2022-03-31T15:50:07.792Z"
   },
   {
    "duration": 39,
    "start_time": "2022-03-31T15:50:07.804Z"
   },
   {
    "duration": 27,
    "start_time": "2022-03-31T15:50:07.844Z"
   },
   {
    "duration": 20,
    "start_time": "2022-03-31T15:50:07.879Z"
   },
   {
    "duration": 33,
    "start_time": "2022-03-31T15:50:07.901Z"
   },
   {
    "duration": 10,
    "start_time": "2022-03-31T15:50:07.936Z"
   },
   {
    "duration": 64,
    "start_time": "2022-03-31T15:50:07.947Z"
   },
   {
    "duration": 11,
    "start_time": "2022-03-31T15:50:08.013Z"
   },
   {
    "duration": 5,
    "start_time": "2022-03-31T15:50:08.026Z"
   },
   {
    "duration": 47,
    "start_time": "2022-03-31T15:50:08.032Z"
   },
   {
    "duration": 16,
    "start_time": "2022-03-31T15:50:08.080Z"
   },
   {
    "duration": 26,
    "start_time": "2022-03-31T15:50:08.098Z"
   },
   {
    "duration": 3,
    "start_time": "2022-03-31T15:50:08.126Z"
   },
   {
    "duration": 34,
    "start_time": "2022-03-31T15:50:08.130Z"
   },
   {
    "duration": 3,
    "start_time": "2022-03-31T15:50:08.166Z"
   },
   {
    "duration": 93,
    "start_time": "2022-03-31T15:50:08.170Z"
   },
   {
    "duration": 139,
    "start_time": "2022-03-31T15:50:08.270Z"
   },
   {
    "duration": 155,
    "start_time": "2022-03-31T15:50:08.415Z"
   },
   {
    "duration": 20,
    "start_time": "2022-03-31T15:50:08.577Z"
   },
   {
    "duration": 24,
    "start_time": "2022-03-31T15:50:08.664Z"
   },
   {
    "duration": 14,
    "start_time": "2022-03-31T15:50:08.698Z"
   },
   {
    "duration": 8,
    "start_time": "2022-03-31T15:50:08.714Z"
   },
   {
    "duration": 8,
    "start_time": "2022-03-31T15:50:08.723Z"
   },
   {
    "duration": 57,
    "start_time": "2022-03-31T15:50:08.733Z"
   },
   {
    "duration": 779,
    "start_time": "2022-03-31T15:50:08.792Z"
   },
   {
    "duration": 767,
    "start_time": "2022-03-31T15:50:09.573Z"
   },
   {
    "duration": 862,
    "start_time": "2022-03-31T15:50:10.343Z"
   }
  ],
  "kernelspec": {
   "display_name": "Python 3 (ipykernel)",
   "language": "python",
   "name": "python3"
  },
  "language_info": {
   "codemirror_mode": {
    "name": "ipython",
    "version": 3
   },
   "file_extension": ".py",
   "mimetype": "text/x-python",
   "name": "python",
   "nbconvert_exporter": "python",
   "pygments_lexer": "ipython3",
   "version": "3.9.7"
  },
  "toc": {
   "base_numbering": 1,
   "nav_menu": {},
   "number_sections": true,
   "sideBar": true,
   "skip_h1_title": true,
   "title_cell": "Table of Contents",
   "title_sidebar": "Contents",
   "toc_cell": false,
   "toc_position": {},
   "toc_section_display": true,
   "toc_window_display": false
  }
 },
 "nbformat": 4,
 "nbformat_minor": 2
}
